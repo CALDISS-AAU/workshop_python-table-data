{
 "cells": [
  {
   "cell_type": "markdown",
   "metadata": {},
   "source": [
    "## Disposition\n",
    "\n",
    "\n",
    "- Brug af pandas til tabeldata - fortsat\n",
    "- Variabeltransformation\n",
    "- Introduktion til simple modelleringer i python\n",
    "\n",
    "\n",
    "- Pandas genopfriskning\n",
    "    - Inspicering\n",
    "    - Subsetting\n",
    "    - Rekodning\n",
    "    - Nye variable\n",
    "- Håndtering af kategoriske variable\n",
    "- Simpel håndtering a missing (`dropna()`, `fillna()`) - `fillna()`methods: forwardfill: `ffill`, backwardfill: `bfill` - akse 0,1 alt efter række, koloone\n",
    "- append (`.concat`) og merge (`.merge`) \n",
    "    - join (`join = `)\n",
    "    - `on`, `left_on`, `right_on`\n",
    "    - `how`, `outer`, `inner`, `left`, `right`\n",
    "- `.groupby` (pyDSH, s.162)\n",
    "- strings (pyDSH, s. 180-182)\n",
    "- dummy-konvertering\n",
    "\n",
    "\n",
    "Kenneth Stanford?\n",
    "\n",
    "\n",
    "https://www.datacamp.com/community/tutorials/categorical-data\n",
    "https://pbpython.com/categorical-encoding.html\n",
    "https://pandas.pydata.org/pandas-docs/stable/user_guide/categorical.html"
   ]
  },
  {
   "cell_type": "markdown",
   "metadata": {},
   "source": [
    "# Python til tabeldata"
   ]
  },
  {
   "cell_type": "markdown",
   "metadata": {},
   "source": [
    "## Dagens workshop\n",
    "\n",
    "I dag arbejder vi videre med, hvordan python bruges til tabeldata. Vi skal blandt andet igennem, hvordan python bruges til simpel statistik og modeller, samt hvordan vi løser forskellige datahåndteringsproblemer.\n",
    "\n",
    "### Program\n",
    "- Genopfriskning fra del 1\n",
    "- Lineær regression med `scikit-learn`\n",
    "- Plots med `seaborn`\n",
    "- Håndtering af kategoriske data\n",
    "- Håndtering af missing\n",
    "- Kombinering af data"
   ]
  },
  {
   "cell_type": "code",
   "execution_count": 230,
   "metadata": {},
   "outputs": [],
   "source": [
    "ess2 = pd.read_stata('../data/ESS2014DK_subset.dta')\n",
    "ess2.to_csv('../data/ESS2014DK_subset.csv', index = Fa)"
   ]
  },
  {
   "cell_type": "code",
   "execution_count": 228,
   "metadata": {},
   "outputs": [
    {
     "data": {
      "text/html": [
       "<div>\n",
       "<style scoped>\n",
       "    .dataframe tbody tr th:only-of-type {\n",
       "        vertical-align: middle;\n",
       "    }\n",
       "\n",
       "    .dataframe tbody tr th {\n",
       "        vertical-align: top;\n",
       "    }\n",
       "\n",
       "    .dataframe thead th {\n",
       "        text-align: right;\n",
       "    }\n",
       "</style>\n",
       "<table border=\"1\" class=\"dataframe\">\n",
       "  <thead>\n",
       "    <tr style=\"text-align: right;\">\n",
       "      <th></th>\n",
       "      <th>idno</th>\n",
       "      <th>ppltrst</th>\n",
       "      <th>happy</th>\n",
       "      <th>health</th>\n",
       "      <th>cgtsday</th>\n",
       "      <th>alcfreq</th>\n",
       "      <th>height</th>\n",
       "      <th>weight</th>\n",
       "      <th>gndr</th>\n",
       "      <th>yrbrn</th>\n",
       "    </tr>\n",
       "  </thead>\n",
       "  <tbody>\n",
       "    <tr>\n",
       "      <td>0</td>\n",
       "      <td>921018</td>\n",
       "      <td>6</td>\n",
       "      <td>9</td>\n",
       "      <td>Very good</td>\n",
       "      <td>10.0</td>\n",
       "      <td>2-3 times a month</td>\n",
       "      <td>178.0</td>\n",
       "      <td>64.0</td>\n",
       "      <td>Male</td>\n",
       "      <td>1990</td>\n",
       "    </tr>\n",
       "    <tr>\n",
       "      <td>1</td>\n",
       "      <td>921026</td>\n",
       "      <td>8</td>\n",
       "      <td>8</td>\n",
       "      <td>Very good</td>\n",
       "      <td>NaN</td>\n",
       "      <td>Several times a week</td>\n",
       "      <td>172.0</td>\n",
       "      <td>64.0</td>\n",
       "      <td>Female</td>\n",
       "      <td>1948</td>\n",
       "    </tr>\n",
       "    <tr>\n",
       "      <td>2</td>\n",
       "      <td>921034</td>\n",
       "      <td>8</td>\n",
       "      <td>8</td>\n",
       "      <td>Good</td>\n",
       "      <td>NaN</td>\n",
       "      <td>Every day</td>\n",
       "      <td>176.0</td>\n",
       "      <td>87.0</td>\n",
       "      <td>Male</td>\n",
       "      <td>1957</td>\n",
       "    </tr>\n",
       "    <tr>\n",
       "      <td>3</td>\n",
       "      <td>921076</td>\n",
       "      <td>8</td>\n",
       "      <td>8</td>\n",
       "      <td>Good</td>\n",
       "      <td>NaN</td>\n",
       "      <td>Several times a week</td>\n",
       "      <td>162.0</td>\n",
       "      <td>70.0</td>\n",
       "      <td>Female</td>\n",
       "      <td>1958</td>\n",
       "    </tr>\n",
       "    <tr>\n",
       "      <td>4</td>\n",
       "      <td>921084</td>\n",
       "      <td>5</td>\n",
       "      <td>8</td>\n",
       "      <td>Very good</td>\n",
       "      <td>NaN</td>\n",
       "      <td>Every day</td>\n",
       "      <td>175.0</td>\n",
       "      <td>80.0</td>\n",
       "      <td>Male</td>\n",
       "      <td>1936</td>\n",
       "    </tr>\n",
       "  </tbody>\n",
       "</table>\n",
       "</div>"
      ],
      "text/plain": [
       "     idno ppltrst happy     health cgtsday               alcfreq height  \\\n",
       "0  921018       6     9  Very good    10.0     2-3 times a month  178.0   \n",
       "1  921026       8     8  Very good     NaN  Several times a week  172.0   \n",
       "2  921034       8     8       Good     NaN             Every day  176.0   \n",
       "3  921076       8     8       Good     NaN  Several times a week  162.0   \n",
       "4  921084       5     8  Very good     NaN             Every day  175.0   \n",
       "\n",
       "  weight    gndr yrbrn  \n",
       "0   64.0    Male  1990  \n",
       "1   64.0  Female  1948  \n",
       "2   87.0    Male  1957  \n",
       "3   70.0  Female  1958  \n",
       "4   80.0    Male  1936  "
      ]
     },
     "execution_count": 228,
     "metadata": {},
     "output_type": "execute_result"
    }
   ],
   "source": [
    "ess2.head()"
   ]
  },
  {
   "cell_type": "markdown",
   "metadata": {},
   "source": [
    "## Genopfriskning fra del 1"
   ]
  },
  {
   "cell_type": "code",
   "execution_count": 231,
   "metadata": {},
   "outputs": [],
   "source": [
    "#Indlæs data\n",
    "import pandas as pd\n",
    "ess = pd.read_csv('https://github.com/CALDISS-AAU/workshop_python-table-data/raw/master/data/ESS2014DK_subset.csv')"
   ]
  },
  {
   "cell_type": "code",
   "execution_count": 232,
   "metadata": {},
   "outputs": [
    {
     "data": {
      "text/html": [
       "<div>\n",
       "<style scoped>\n",
       "    .dataframe tbody tr th:only-of-type {\n",
       "        vertical-align: middle;\n",
       "    }\n",
       "\n",
       "    .dataframe tbody tr th {\n",
       "        vertical-align: top;\n",
       "    }\n",
       "\n",
       "    .dataframe thead th {\n",
       "        text-align: right;\n",
       "    }\n",
       "</style>\n",
       "<table border=\"1\" class=\"dataframe\">\n",
       "  <thead>\n",
       "    <tr style=\"text-align: right;\">\n",
       "      <th></th>\n",
       "      <th>Unnamed: 0</th>\n",
       "      <th>idno</th>\n",
       "      <th>ppltrst</th>\n",
       "      <th>happy</th>\n",
       "      <th>health</th>\n",
       "      <th>cgtsday</th>\n",
       "      <th>alcfreq</th>\n",
       "      <th>height</th>\n",
       "      <th>weight</th>\n",
       "      <th>gndr</th>\n",
       "      <th>yrbrn</th>\n",
       "    </tr>\n",
       "  </thead>\n",
       "  <tbody>\n",
       "    <tr>\n",
       "      <td>0</td>\n",
       "      <td>0</td>\n",
       "      <td>921018</td>\n",
       "      <td>6</td>\n",
       "      <td>9</td>\n",
       "      <td>Very good</td>\n",
       "      <td>10.0</td>\n",
       "      <td>2-3 times a month</td>\n",
       "      <td>178.0</td>\n",
       "      <td>64.0</td>\n",
       "      <td>Male</td>\n",
       "      <td>1990</td>\n",
       "    </tr>\n",
       "    <tr>\n",
       "      <td>1</td>\n",
       "      <td>1</td>\n",
       "      <td>921026</td>\n",
       "      <td>8</td>\n",
       "      <td>8</td>\n",
       "      <td>Very good</td>\n",
       "      <td>NaN</td>\n",
       "      <td>Several times a week</td>\n",
       "      <td>172.0</td>\n",
       "      <td>64.0</td>\n",
       "      <td>Female</td>\n",
       "      <td>1948</td>\n",
       "    </tr>\n",
       "    <tr>\n",
       "      <td>2</td>\n",
       "      <td>2</td>\n",
       "      <td>921034</td>\n",
       "      <td>8</td>\n",
       "      <td>8</td>\n",
       "      <td>Good</td>\n",
       "      <td>NaN</td>\n",
       "      <td>Every day</td>\n",
       "      <td>176.0</td>\n",
       "      <td>87.0</td>\n",
       "      <td>Male</td>\n",
       "      <td>1957</td>\n",
       "    </tr>\n",
       "    <tr>\n",
       "      <td>3</td>\n",
       "      <td>3</td>\n",
       "      <td>921076</td>\n",
       "      <td>8</td>\n",
       "      <td>8</td>\n",
       "      <td>Good</td>\n",
       "      <td>NaN</td>\n",
       "      <td>Several times a week</td>\n",
       "      <td>162.0</td>\n",
       "      <td>70.0</td>\n",
       "      <td>Female</td>\n",
       "      <td>1958</td>\n",
       "    </tr>\n",
       "    <tr>\n",
       "      <td>4</td>\n",
       "      <td>4</td>\n",
       "      <td>921084</td>\n",
       "      <td>5</td>\n",
       "      <td>8</td>\n",
       "      <td>Very good</td>\n",
       "      <td>NaN</td>\n",
       "      <td>Every day</td>\n",
       "      <td>175.0</td>\n",
       "      <td>80.0</td>\n",
       "      <td>Male</td>\n",
       "      <td>1936</td>\n",
       "    </tr>\n",
       "  </tbody>\n",
       "</table>\n",
       "</div>"
      ],
      "text/plain": [
       "   Unnamed: 0    idno ppltrst happy     health  cgtsday               alcfreq  \\\n",
       "0           0  921018       6     9  Very good     10.0     2-3 times a month   \n",
       "1           1  921026       8     8  Very good      NaN  Several times a week   \n",
       "2           2  921034       8     8       Good      NaN             Every day   \n",
       "3           3  921076       8     8       Good      NaN  Several times a week   \n",
       "4           4  921084       5     8  Very good      NaN             Every day   \n",
       "\n",
       "   height  weight    gndr  yrbrn  \n",
       "0   178.0    64.0    Male   1990  \n",
       "1   172.0    64.0  Female   1948  \n",
       "2   176.0    87.0    Male   1957  \n",
       "3   162.0    70.0  Female   1958  \n",
       "4   175.0    80.0    Male   1936  "
      ]
     },
     "execution_count": 232,
     "metadata": {},
     "output_type": "execute_result"
    }
   ],
   "source": [
    "#Inspicer første 5 rækker af pandas dataframe\n",
    "ess.head()"
   ]
  },
  {
   "cell_type": "code",
   "execution_count": 221,
   "metadata": {},
   "outputs": [
    {
     "ename": "ValueError",
     "evalue": "Unable to parse string \"Not applicable\" at position 1",
     "output_type": "error",
     "traceback": [
      "\u001b[1;31m---------------------------------------------------------------------------\u001b[0m",
      "\u001b[1;31mValueError\u001b[0m                                Traceback (most recent call last)",
      "\u001b[1;32mpandas\\_libs\\lib.pyx\u001b[0m in \u001b[0;36mpandas._libs.lib.maybe_convert_numeric\u001b[1;34m()\u001b[0m\n",
      "\u001b[1;31mValueError\u001b[0m: Unable to parse string \"Not applicable\"",
      "\nDuring handling of the above exception, another exception occurred:\n",
      "\u001b[1;31mValueError\u001b[0m                                Traceback (most recent call last)",
      "\u001b[1;32m<ipython-input-221-0bba14f6531e>\u001b[0m in \u001b[0;36m<module>\u001b[1;34m\u001b[0m\n\u001b[1;32m----> 1\u001b[1;33m \u001b[0mess\u001b[0m\u001b[1;33m[\u001b[0m\u001b[1;34m'cgtsday'\u001b[0m\u001b[1;33m]\u001b[0m \u001b[1;33m=\u001b[0m \u001b[0mpd\u001b[0m\u001b[1;33m.\u001b[0m\u001b[0mto_numeric\u001b[0m\u001b[1;33m(\u001b[0m\u001b[0mess\u001b[0m\u001b[1;33m[\u001b[0m\u001b[1;34m'cgtsday'\u001b[0m\u001b[1;33m]\u001b[0m\u001b[1;33m)\u001b[0m\u001b[1;33m\u001b[0m\u001b[1;33m\u001b[0m\u001b[0m\n\u001b[0m",
      "\u001b[1;32mC:\\programs\\Continuum\\anaconda3\\lib\\site-packages\\pandas\\core\\tools\\numeric.py\u001b[0m in \u001b[0;36mto_numeric\u001b[1;34m(arg, errors, downcast)\u001b[0m\n\u001b[0;32m    149\u001b[0m             \u001b[0mcoerce_numeric\u001b[0m \u001b[1;33m=\u001b[0m \u001b[0merrors\u001b[0m \u001b[1;32mnot\u001b[0m \u001b[1;32min\u001b[0m \u001b[1;33m(\u001b[0m\u001b[1;34m\"ignore\"\u001b[0m\u001b[1;33m,\u001b[0m \u001b[1;34m\"raise\"\u001b[0m\u001b[1;33m)\u001b[0m\u001b[1;33m\u001b[0m\u001b[1;33m\u001b[0m\u001b[0m\n\u001b[0;32m    150\u001b[0m             values = lib.maybe_convert_numeric(\n\u001b[1;32m--> 151\u001b[1;33m                 \u001b[0mvalues\u001b[0m\u001b[1;33m,\u001b[0m \u001b[0mset\u001b[0m\u001b[1;33m(\u001b[0m\u001b[1;33m)\u001b[0m\u001b[1;33m,\u001b[0m \u001b[0mcoerce_numeric\u001b[0m\u001b[1;33m=\u001b[0m\u001b[0mcoerce_numeric\u001b[0m\u001b[1;33m\u001b[0m\u001b[1;33m\u001b[0m\u001b[0m\n\u001b[0m\u001b[0;32m    152\u001b[0m             )\n\u001b[0;32m    153\u001b[0m \u001b[1;33m\u001b[0m\u001b[0m\n",
      "\u001b[1;32mpandas\\_libs\\lib.pyx\u001b[0m in \u001b[0;36mpandas._libs.lib.maybe_convert_numeric\u001b[1;34m()\u001b[0m\n",
      "\u001b[1;31mValueError\u001b[0m: Unable to parse string \"Not applicable\" at position 1"
     ]
    }
   ],
   "source": [
    "ess['cgtsday'] = pd.to_numeric(ess['cgtsday'])"
   ]
  },
  {
   "cell_type": "code",
   "execution_count": 149,
   "metadata": {},
   "outputs": [
    {
     "data": {
      "text/plain": [
       "0    10.0\n",
       "1     NaN\n",
       "2     NaN\n",
       "3     NaN\n",
       "4     NaN\n",
       "Name: cgtsday, dtype: float64"
      ]
     },
     "execution_count": 149,
     "metadata": {},
     "output_type": "execute_result"
    }
   ],
   "source": [
    "#Kolonner kan referes til ved navn (returnerer som en pandas serie)\n",
    "ess['cgtsday'].head()"
   ]
  },
  {
   "cell_type": "code",
   "execution_count": 11,
   "metadata": {},
   "outputs": [
    {
     "data": {
      "text/plain": [
       "dtype('float64')"
      ]
     },
     "execution_count": 11,
     "metadata": {},
     "output_type": "execute_result"
    }
   ],
   "source": [
    "#Vi kan inspicere typen med .dtypes (float64 = decimaltal)\n",
    "ess['cgtsday'].dtypes"
   ]
  },
  {
   "cell_type": "code",
   "execution_count": 163,
   "metadata": {},
   "outputs": [
    {
     "data": {
      "text/plain": [
       "10     NaN\n",
       "11     NaN\n",
       "12     NaN\n",
       "13     NaN\n",
       "14     NaN\n",
       "15    10.0\n",
       "Name: cgtsday, dtype: float64"
      ]
     },
     "execution_count": 163,
     "metadata": {},
     "output_type": "execute_result"
    }
   ],
   "source": [
    "#Dele af data kan specificeres med .loc (rækker, kolonner)\n",
    "ess.loc[10:15, 'cgtsday'] #Returneres som serie"
   ]
  },
  {
   "cell_type": "code",
   "execution_count": 158,
   "metadata": {},
   "outputs": [
    {
     "data": {
      "text/html": [
       "<div>\n",
       "<style scoped>\n",
       "    .dataframe tbody tr th:only-of-type {\n",
       "        vertical-align: middle;\n",
       "    }\n",
       "\n",
       "    .dataframe tbody tr th {\n",
       "        vertical-align: top;\n",
       "    }\n",
       "\n",
       "    .dataframe thead th {\n",
       "        text-align: right;\n",
       "    }\n",
       "</style>\n",
       "<table border=\"1\" class=\"dataframe\">\n",
       "  <thead>\n",
       "    <tr style=\"text-align: right;\">\n",
       "      <th></th>\n",
       "      <th>happy</th>\n",
       "      <th>cgtsday</th>\n",
       "    </tr>\n",
       "  </thead>\n",
       "  <tbody>\n",
       "    <tr>\n",
       "      <th>10</th>\n",
       "      <td>8</td>\n",
       "      <td>NaN</td>\n",
       "    </tr>\n",
       "    <tr>\n",
       "      <th>11</th>\n",
       "      <td>4</td>\n",
       "      <td>NaN</td>\n",
       "    </tr>\n",
       "    <tr>\n",
       "      <th>12</th>\n",
       "      <td>8</td>\n",
       "      <td>NaN</td>\n",
       "    </tr>\n",
       "    <tr>\n",
       "      <th>13</th>\n",
       "      <td>8</td>\n",
       "      <td>NaN</td>\n",
       "    </tr>\n",
       "    <tr>\n",
       "      <th>14</th>\n",
       "      <td>9</td>\n",
       "      <td>NaN</td>\n",
       "    </tr>\n",
       "    <tr>\n",
       "      <th>15</th>\n",
       "      <td>Extremely happy</td>\n",
       "      <td>10.0</td>\n",
       "    </tr>\n",
       "  </tbody>\n",
       "</table>\n",
       "</div>"
      ],
      "text/plain": [
       "              happy  cgtsday\n",
       "10                8      NaN\n",
       "11                4      NaN\n",
       "12                8      NaN\n",
       "13                8      NaN\n",
       "14                9      NaN\n",
       "15  Extremely happy     10.0"
      ]
     },
     "execution_count": 158,
     "metadata": {},
     "output_type": "execute_result"
    }
   ],
   "source": [
    "#Flere kolonner specificeres ved at sætte dem ind i liste\n",
    "ess.loc[10:15, ['happy', 'cgtsday']] #Returneres som data frame"
   ]
  },
  {
   "cell_type": "code",
   "execution_count": 165,
   "metadata": {},
   "outputs": [
    {
     "data": {
      "text/html": [
       "<div>\n",
       "<style scoped>\n",
       "    .dataframe tbody tr th:only-of-type {\n",
       "        vertical-align: middle;\n",
       "    }\n",
       "\n",
       "    .dataframe tbody tr th {\n",
       "        vertical-align: top;\n",
       "    }\n",
       "\n",
       "    .dataframe thead th {\n",
       "        text-align: right;\n",
       "    }\n",
       "</style>\n",
       "<table border=\"1\" class=\"dataframe\">\n",
       "  <thead>\n",
       "    <tr style=\"text-align: right;\">\n",
       "      <th></th>\n",
       "      <th>cgtsday</th>\n",
       "      <th>happy</th>\n",
       "    </tr>\n",
       "  </thead>\n",
       "  <tbody>\n",
       "    <tr>\n",
       "      <th>0</th>\n",
       "      <td>10.0</td>\n",
       "      <td>9</td>\n",
       "    </tr>\n",
       "    <tr>\n",
       "      <th>15</th>\n",
       "      <td>10.0</td>\n",
       "      <td>Extremely happy</td>\n",
       "    </tr>\n",
       "    <tr>\n",
       "      <th>39</th>\n",
       "      <td>10.0</td>\n",
       "      <td>Extremely happy</td>\n",
       "    </tr>\n",
       "    <tr>\n",
       "      <th>49</th>\n",
       "      <td>10.0</td>\n",
       "      <td>4</td>\n",
       "    </tr>\n",
       "    <tr>\n",
       "      <th>121</th>\n",
       "      <td>10.0</td>\n",
       "      <td>9</td>\n",
       "    </tr>\n",
       "  </tbody>\n",
       "</table>\n",
       "</div>"
      ],
      "text/plain": [
       "     cgtsday            happy\n",
       "0       10.0                9\n",
       "15      10.0  Extremely happy\n",
       "39      10.0  Extremely happy\n",
       "49      10.0                4\n",
       "121     10.0                9"
      ]
     },
     "execution_count": 165,
     "metadata": {},
     "output_type": "execute_result"
    }
   ],
   "source": [
    "#Bestemte rækker specificeres ved at sætte kriterie(r)\n",
    "ess.loc[ess['cgtsday'] == 10, ['cgtsday','happy']].head() #Returneres som data frame"
   ]
  },
  {
   "cell_type": "code",
   "execution_count": 166,
   "metadata": {},
   "outputs": [],
   "source": [
    "#Nye variable dannes ved at referere til variabel/kolonne, som endnu ikke er i datasætttet\n",
    "ess['bmi'] = ess['weight'] * (ess['height']/100)**2"
   ]
  },
  {
   "cell_type": "markdown",
   "metadata": {},
   "source": [
    "## ØVELSE 0: Opvarmning\n",
    "\n",
    "1. Indlæs ESS datasættet fra sidste gang \n",
    "\n",
    "    `pd.read_csv('https://github.com/CALDISS-AAU/workshop_python-intro/raw/master/data/ESS2014DK_subset.csv')`\n",
    "    \n",
    "    \n",
    "2. Lav en aldersvariabel (datasættet er fra 2014)"
   ]
  },
  {
   "cell_type": "code",
   "execution_count": 173,
   "metadata": {},
   "outputs": [
    {
     "data": {
      "text/plain": [
       "<matplotlib.collections.PathCollection at 0x7f73ddcb1cc0>"
      ]
     },
     "execution_count": 173,
     "metadata": {},
     "output_type": "execute_result"
    },
    {
     "data": {
      "image/png": "[encoded data removed]",
      "text/plain": [
       "<Figure size 432x288 with 1 Axes>"
      ]
     },
     "metadata": {
      "needs_background": "light"
     },
     "output_type": "display_data"
    }
   ],
   "source": [
    "%matplotlib inline\n",
    "#import seaborn as sns\n",
    "import matplotlib.pyplot as plt\n",
    "\n",
    "#sns.set()\n",
    "#sns.lineplot(ess['height'], ess['weight'])\n",
    "\n",
    "plt.scatter(ess['height'], ess['weight'])"
   ]
  },
  {
   "cell_type": "markdown",
   "metadata": {},
   "source": [
    "## Modeller/estimater i python\n",
    "\n",
    "Typisk arbejder vi i samfundsvidenskab med statistisker modeller til at producere estimater: Hvor meget bliver Y påvirket af X, og hvor sikre er vi på det estimat?\n",
    "\n",
    "I Neighborhood AI beskæftiger os vi med machine learning, hvor nogen af de samme modeller, som I kender fra statistik også bliver brugt. Her er det dog anderledes, da vi ikke beskæftiger os med, hvor godt et estimat, X, kan forklare Y, men i stedet er interesseret i, hvor godt vi kan forudsige Y. \n",
    "\n",
    "Vi skifter altså fokus væk fra forklaringskraften af et enkelte estimater til at fokusere på hvor mange estimater, der skal til for at kunne forudsige Y.\n"
   ]
  },
  {
   "cell_type": "markdown",
   "metadata": {},
   "source": [
    "I denne workshop arbejder vi med scikit learn, som er et pakkebibliotek udviklet specifikt til machine learning. \n",
    "\n",
    "Måden man specificerer og bruger modeller (fx lineær regression) er derfor anderledes, da man netop har dette andet sigte."
   ]
  },
  {
   "cell_type": "markdown",
   "metadata": {},
   "source": [
    "## Hvordan fordeler data sig?\n",
    "\n",
    "Som altid er det godt at gøre sig bekendt med sine data.\n",
    "\n",
    "Vi har tidligere set, hvordan vi kan producere forskellige deskriptive mål (`.describe()`, `.min()`, `.max()` osv.)\n",
    "\n",
    "En anden måde at blive bekendt med data er gennem plotting. Vi ser her nærmere på `seaborn` pakken til at lave forskellige visualiseringer.\n",
    "\n",
    "`seaborn` bygger oven på pakken `matplotlib`, hvorfor begge pakker bruges."
   ]
  },
  {
   "cell_type": "code",
   "execution_count": 46,
   "metadata": {},
   "outputs": [],
   "source": [
    "import matplotlib.pyplot as plt #importerer pyplot for matplotlib - bruges til at sætte størrelse osv.\n",
    "import seaborn as sns #seaborn importeres\n",
    "%matplotlib inline \n",
    "#indstilling for jupyter notebook: plots skal printes i notebook\n",
    "sns.set() #indstillinger for seaborn (her standardindstillinger)"
   ]
  },
  {
   "cell_type": "code",
   "execution_count": 47,
   "metadata": {},
   "outputs": [
    {
     "data": {
      "text/html": [
       "<div>\n",
       "<style scoped>\n",
       "    .dataframe tbody tr th:only-of-type {\n",
       "        vertical-align: middle;\n",
       "    }\n",
       "\n",
       "    .dataframe tbody tr th {\n",
       "        vertical-align: top;\n",
       "    }\n",
       "\n",
       "    .dataframe thead th {\n",
       "        text-align: right;\n",
       "    }\n",
       "</style>\n",
       "<table border=\"1\" class=\"dataframe\">\n",
       "  <thead>\n",
       "    <tr style=\"text-align: right;\">\n",
       "      <th></th>\n",
       "      <th>sepal_length</th>\n",
       "      <th>sepal_width</th>\n",
       "      <th>petal_length</th>\n",
       "      <th>petal_width</th>\n",
       "      <th>species</th>\n",
       "    </tr>\n",
       "  </thead>\n",
       "  <tbody>\n",
       "    <tr>\n",
       "      <td>0</td>\n",
       "      <td>5.1</td>\n",
       "      <td>3.5</td>\n",
       "      <td>1.4</td>\n",
       "      <td>0.2</td>\n",
       "      <td>setosa</td>\n",
       "    </tr>\n",
       "    <tr>\n",
       "      <td>1</td>\n",
       "      <td>4.9</td>\n",
       "      <td>3.0</td>\n",
       "      <td>1.4</td>\n",
       "      <td>0.2</td>\n",
       "      <td>setosa</td>\n",
       "    </tr>\n",
       "    <tr>\n",
       "      <td>2</td>\n",
       "      <td>4.7</td>\n",
       "      <td>3.2</td>\n",
       "      <td>1.3</td>\n",
       "      <td>0.2</td>\n",
       "      <td>setosa</td>\n",
       "    </tr>\n",
       "    <tr>\n",
       "      <td>3</td>\n",
       "      <td>4.6</td>\n",
       "      <td>3.1</td>\n",
       "      <td>1.5</td>\n",
       "      <td>0.2</td>\n",
       "      <td>setosa</td>\n",
       "    </tr>\n",
       "    <tr>\n",
       "      <td>4</td>\n",
       "      <td>5.0</td>\n",
       "      <td>3.6</td>\n",
       "      <td>1.4</td>\n",
       "      <td>0.2</td>\n",
       "      <td>setosa</td>\n",
       "    </tr>\n",
       "  </tbody>\n",
       "</table>\n",
       "</div>"
      ],
      "text/plain": [
       "   sepal_length  sepal_width  petal_length  petal_width species\n",
       "0           5.1          3.5           1.4          0.2  setosa\n",
       "1           4.9          3.0           1.4          0.2  setosa\n",
       "2           4.7          3.2           1.3          0.2  setosa\n",
       "3           4.6          3.1           1.5          0.2  setosa\n",
       "4           5.0          3.6           1.4          0.2  setosa"
      ]
     },
     "execution_count": 47,
     "metadata": {},
     "output_type": "execute_result"
    }
   ],
   "source": [
    "data = sns.load_dataset(\"iris\") #vi indlæser et test datasæt\n",
    "\n",
    "data.head() #inspicerer første 5 rækker"
   ]
  },
  {
   "cell_type": "markdown",
   "metadata": {},
   "source": [
    "`seaborn` kan danne et gitter af scatterplots i variable i datasættet med `pairplot`. Dette kan give os et umiddelbart overblik."
   ]
  },
  {
   "cell_type": "code",
   "execution_count": 48,
   "metadata": {},
   "outputs": [
    {
     "data": {
      "text/plain": [
       "<seaborn.axisgrid.PairGrid at 0x2c109105ec8>"
      ]
     },
     "execution_count": 48,
     "metadata": {},
     "output_type": "execute_result"
    },
    {
     "data": {
      "image/png": "[encoded data removed]",
      "text/plain": [
       "<Figure size 806.85x720 with 20 Axes>"
      ]
     },
     "metadata": {},
     "output_type": "display_data"
    }
   ],
   "source": [
    "sns.pairplot(data, hue='species', size = 2.5)"
   ]
  },
  {
   "cell_type": "markdown",
   "metadata": {},
   "source": [
    "Lad os se nærmere på sammenhængen mellem \"petal length\" og \"petal width\""
   ]
  },
  {
   "cell_type": "code",
   "execution_count": 49,
   "metadata": {},
   "outputs": [
    {
     "data": {
      "text/plain": [
       "<matplotlib.axes._subplots.AxesSubplot at 0x2c10a49b7c8>"
      ]
     },
     "execution_count": 49,
     "metadata": {},
     "output_type": "execute_result"
    },
    {
     "data": {
      "image/png": "[encoded data removed]",
      "text/plain": [
       "<Figure size 1080x720 with 1 Axes>"
      ]
     },
     "metadata": {},
     "output_type": "display_data"
    }
   ],
   "source": [
    "plt.figure(figsize=(15,10)) #sætter størrelsen på figuren\n",
    "sns.regplot(x = 'petal_length', y = 'petal_width', data = data) #regplot - scatterplot med fitted regressionslinje"
   ]
  },
  {
   "cell_type": "markdown",
   "metadata": {},
   "source": [
    "Ovenstående indikerer, at for at kunne forudsige bredden af petals, skal vi vide nogen om længden (sjovt nok).\n",
    "\n",
    "For at gøre det simpel prøver vi at modellere med lineær regression. Som sagt er tankegangen dog lidt anderledes, når vi taler machine learning. Vi bruger ikke modellen til at forklare, hvad der øger bredden af petals, men vi laver en model, som kan bruges til at forudsige bredden af petals.\n",
    "\n",
    "**Lineær regression i python med scikit learn**\n",
    "- Specificer modellen: `model = LinearRegression`\n",
    "- Specificer X og Y: `X = pd.DataFrame(data['petal_length']), Y = data['petal_width']`\n",
    "- Fit modellen: `model.fit(X, Y)`\n",
    "- Print ønskede outputs: `print(model.coef_, model.score(X, Y)`"
   ]
  },
  {
   "cell_type": "markdown",
   "metadata": {},
   "source": [
    "Vi bruger pakken scikit-learn (`sklearn`) til at modellere den lineære regression. Dette for at give en forståelse for, hvordan modeller specificeres i denne pakke."
   ]
  },
  {
   "cell_type": "markdown",
   "metadata": {},
   "source": [
    "Først importeres og specificeres modellen. Der laves altså en tom model først, som vi bagefter giver et vis input."
   ]
  },
  {
   "cell_type": "code",
   "execution_count": 52,
   "metadata": {},
   "outputs": [
    {
     "data": {
      "text/plain": [
       "LinearRegression(copy_X=True, fit_intercept=True, n_jobs=None, normalize=False)"
      ]
     },
     "execution_count": 52,
     "metadata": {},
     "output_type": "execute_result"
    }
   ],
   "source": [
    "from sklearn.linear_model import LinearRegression #Modellen importeres fra scikit\n",
    "model = LinearRegression() #Modellen specficeres\n",
    "model"
   ]
  },
  {
   "cell_type": "markdown",
   "metadata": {},
   "source": [
    "X og Y specificeres.\n",
    "\n",
    "Bemærk, at X skal specificeres som dataframe (2 dimensioner), mens Y specificeres som serie (1 dimension). Modellen forventer 2 dimensioner af X, da der kan være flere X-værdier.\n",
    "\n",
    "`.to_frame()` konverterer en serie til en dataframe."
   ]
  },
  {
   "cell_type": "code",
   "execution_count": 53,
   "metadata": {},
   "outputs": [],
   "source": [
    "X = data['petal_length'].to_frame() #X specificeret som dataframe\n",
    "Y = data['petal_width'] #Y specificeret som serie"
   ]
  },
  {
   "cell_type": "markdown",
   "metadata": {},
   "source": [
    "Modellen \"fodres\" nu med input. Modellen \"fittes\"."
   ]
  },
  {
   "cell_type": "code",
   "execution_count": 54,
   "metadata": {},
   "outputs": [
    {
     "data": {
      "text/plain": [
       "LinearRegression(copy_X=True, fit_intercept=True, n_jobs=None, normalize=False)"
      ]
     },
     "execution_count": 54,
     "metadata": {},
     "output_type": "execute_result"
    }
   ],
   "source": [
    "model.fit(X, Y)"
   ]
  },
  {
   "cell_type": "markdown",
   "metadata": {},
   "source": [
    "Når modellen er fitted, kan vi bede om forskellige outputs. Fx koefficienterne, skæringspunktet og R<sup>2</sup>."
   ]
  },
  {
   "cell_type": "code",
   "execution_count": 58,
   "metadata": {},
   "outputs": [
    {
     "name": "stdout",
     "output_type": "stream",
     "text": [
      "Modellens skæringspunk: -0.3630755213190291\n",
      "Model hældning:         0.41575541635241153\n",
      "R2                      0.9271098389904927\n"
     ]
    }
   ],
   "source": [
    "print(\"Modellens skæringspunk:\", model.intercept_)\n",
    "print(\"Model hældning:        \", model.coef_[0])\n",
    "print(\"R2                     \", model.score(X, Y))"
   ]
  },
  {
   "cell_type": "markdown",
   "metadata": {},
   "source": [
    "## ØVELSE 1: Lineær modellering\n",
    "\n",
    "1. Indlæs iris datasættet med `sns.data_load(\"iris\")` (sørg for at `seaborn` er importeret med alias `sns`)\n",
    "2. Inspicer fordelingen af petal length og sepal length med `sns.regplot(X, Y, data)`\n",
    "3. Lav lineær regression model med sepal length som X værdi og petal length som Y værdi\n",
    "    - Husk at X skal specificeres som dataframe og Y som serie\n",
    "4. Hvad er hældningen? (`.coef_`)"
   ]
  },
  {
   "cell_type": "markdown",
   "metadata": {},
   "source": [
    "## Lineær modellering med ESS\n",
    "\n",
    "Lad os nu se nærmere på ESS dataen. Det vil være rimeligt at antage, at personers højde hænger sammen med deres vægt, så lad os kigge nærmere på dette:"
   ]
  },
  {
   "cell_type": "code",
   "execution_count": 59,
   "metadata": {},
   "outputs": [
    {
     "data": {
      "text/plain": [
       "<matplotlib.axes._subplots.AxesSubplot at 0x2c10dc51e08>"
      ]
     },
     "execution_count": 59,
     "metadata": {},
     "output_type": "execute_result"
    },
    {
     "data": {
      "image/png": "[encoded data removed]",
      "text/plain": [
       "<Figure size 1080x720 with 1 Axes>"
      ]
     },
     "metadata": {},
     "output_type": "display_data"
    }
   ],
   "source": [
    "plt.figure(figsize=(15,10)) #sætter størrelsen på figuren\n",
    "sns.regplot(x = 'height', y = 'weight', data = ess) #scatterplot af højde og vægt med fitted regressionslinje"
   ]
  },
  {
   "cell_type": "markdown",
   "metadata": {},
   "source": [
    "Det tyder på en lineær sammenhæng, så lad os prøve at modellere det.\n",
    "\n",
    "ESS data har samme format som iris: dataframe med rækker og kolonner. Kolonnerne vi kigger på indeholder også numeriske værdier (kan tjekkes med `.dtypes`).\n",
    "\n",
    "Modellen bør derfor umiddelbart kunne laves på samme måde:"
   ]
  },
  {
   "cell_type": "code",
   "execution_count": 61,
   "metadata": {},
   "outputs": [
    {
     "ename": "ValueError",
     "evalue": "Input contains NaN, infinity or a value too large for dtype('float64').",
     "output_type": "error",
     "traceback": [
      "\u001b[1;31m---------------------------------------------------------------------------\u001b[0m",
      "\u001b[1;31mValueError\u001b[0m                                Traceback (most recent call last)",
      "\u001b[1;32m<ipython-input-61-f1a97a2c500f>\u001b[0m in \u001b[0;36m<module>\u001b[1;34m\u001b[0m\n\u001b[0;32m      5\u001b[0m \u001b[0mY\u001b[0m \u001b[1;33m=\u001b[0m \u001b[0mess\u001b[0m\u001b[1;33m[\u001b[0m\u001b[1;34m'weight'\u001b[0m\u001b[1;33m]\u001b[0m \u001b[1;31m#Y som serie\u001b[0m\u001b[1;33m\u001b[0m\u001b[1;33m\u001b[0m\u001b[0m\n\u001b[0;32m      6\u001b[0m \u001b[1;33m\u001b[0m\u001b[0m\n\u001b[1;32m----> 7\u001b[1;33m \u001b[0mmodel\u001b[0m\u001b[1;33m.\u001b[0m\u001b[0mfit\u001b[0m\u001b[1;33m(\u001b[0m\u001b[0mX\u001b[0m\u001b[1;33m,\u001b[0m \u001b[0mY\u001b[0m\u001b[1;33m)\u001b[0m\u001b[1;33m\u001b[0m\u001b[1;33m\u001b[0m\u001b[0m\n\u001b[0m",
      "\u001b[1;32mC:\\programs\\Continuum\\anaconda3\\lib\\site-packages\\sklearn\\linear_model\\base.py\u001b[0m in \u001b[0;36mfit\u001b[1;34m(self, X, y, sample_weight)\u001b[0m\n\u001b[0;32m    461\u001b[0m         \u001b[0mn_jobs_\u001b[0m \u001b[1;33m=\u001b[0m \u001b[0mself\u001b[0m\u001b[1;33m.\u001b[0m\u001b[0mn_jobs\u001b[0m\u001b[1;33m\u001b[0m\u001b[1;33m\u001b[0m\u001b[0m\n\u001b[0;32m    462\u001b[0m         X, y = check_X_y(X, y, accept_sparse=['csr', 'csc', 'coo'],\n\u001b[1;32m--> 463\u001b[1;33m                          y_numeric=True, multi_output=True)\n\u001b[0m\u001b[0;32m    464\u001b[0m \u001b[1;33m\u001b[0m\u001b[0m\n\u001b[0;32m    465\u001b[0m         \u001b[1;32mif\u001b[0m \u001b[0msample_weight\u001b[0m \u001b[1;32mis\u001b[0m \u001b[1;32mnot\u001b[0m \u001b[1;32mNone\u001b[0m \u001b[1;32mand\u001b[0m \u001b[0mnp\u001b[0m\u001b[1;33m.\u001b[0m\u001b[0matleast_1d\u001b[0m\u001b[1;33m(\u001b[0m\u001b[0msample_weight\u001b[0m\u001b[1;33m)\u001b[0m\u001b[1;33m.\u001b[0m\u001b[0mndim\u001b[0m \u001b[1;33m>\u001b[0m \u001b[1;36m1\u001b[0m\u001b[1;33m:\u001b[0m\u001b[1;33m\u001b[0m\u001b[1;33m\u001b[0m\u001b[0m\n",
      "\u001b[1;32mC:\\programs\\Continuum\\anaconda3\\lib\\site-packages\\sklearn\\utils\\validation.py\u001b[0m in \u001b[0;36mcheck_X_y\u001b[1;34m(X, y, accept_sparse, accept_large_sparse, dtype, order, copy, force_all_finite, ensure_2d, allow_nd, multi_output, ensure_min_samples, ensure_min_features, y_numeric, warn_on_dtype, estimator)\u001b[0m\n\u001b[0;32m    717\u001b[0m                     \u001b[0mensure_min_features\u001b[0m\u001b[1;33m=\u001b[0m\u001b[0mensure_min_features\u001b[0m\u001b[1;33m,\u001b[0m\u001b[1;33m\u001b[0m\u001b[1;33m\u001b[0m\u001b[0m\n\u001b[0;32m    718\u001b[0m                     \u001b[0mwarn_on_dtype\u001b[0m\u001b[1;33m=\u001b[0m\u001b[0mwarn_on_dtype\u001b[0m\u001b[1;33m,\u001b[0m\u001b[1;33m\u001b[0m\u001b[1;33m\u001b[0m\u001b[0m\n\u001b[1;32m--> 719\u001b[1;33m                     estimator=estimator)\n\u001b[0m\u001b[0;32m    720\u001b[0m     \u001b[1;32mif\u001b[0m \u001b[0mmulti_output\u001b[0m\u001b[1;33m:\u001b[0m\u001b[1;33m\u001b[0m\u001b[1;33m\u001b[0m\u001b[0m\n\u001b[0;32m    721\u001b[0m         y = check_array(y, 'csr', force_all_finite=True, ensure_2d=False,\n",
      "\u001b[1;32mC:\\programs\\Continuum\\anaconda3\\lib\\site-packages\\sklearn\\utils\\validation.py\u001b[0m in \u001b[0;36mcheck_array\u001b[1;34m(array, accept_sparse, accept_large_sparse, dtype, order, copy, force_all_finite, ensure_2d, allow_nd, ensure_min_samples, ensure_min_features, warn_on_dtype, estimator)\u001b[0m\n\u001b[0;32m    540\u001b[0m         \u001b[1;32mif\u001b[0m \u001b[0mforce_all_finite\u001b[0m\u001b[1;33m:\u001b[0m\u001b[1;33m\u001b[0m\u001b[1;33m\u001b[0m\u001b[0m\n\u001b[0;32m    541\u001b[0m             _assert_all_finite(array,\n\u001b[1;32m--> 542\u001b[1;33m                                allow_nan=force_all_finite == 'allow-nan')\n\u001b[0m\u001b[0;32m    543\u001b[0m \u001b[1;33m\u001b[0m\u001b[0m\n\u001b[0;32m    544\u001b[0m     \u001b[1;32mif\u001b[0m \u001b[0mensure_min_samples\u001b[0m \u001b[1;33m>\u001b[0m \u001b[1;36m0\u001b[0m\u001b[1;33m:\u001b[0m\u001b[1;33m\u001b[0m\u001b[1;33m\u001b[0m\u001b[0m\n",
      "\u001b[1;32mC:\\programs\\Continuum\\anaconda3\\lib\\site-packages\\sklearn\\utils\\validation.py\u001b[0m in \u001b[0;36m_assert_all_finite\u001b[1;34m(X, allow_nan)\u001b[0m\n\u001b[0;32m     54\u001b[0m                 not allow_nan and not np.isfinite(X).all()):\n\u001b[0;32m     55\u001b[0m             \u001b[0mtype_err\u001b[0m \u001b[1;33m=\u001b[0m \u001b[1;34m'infinity'\u001b[0m \u001b[1;32mif\u001b[0m \u001b[0mallow_nan\u001b[0m \u001b[1;32melse\u001b[0m \u001b[1;34m'NaN, infinity'\u001b[0m\u001b[1;33m\u001b[0m\u001b[1;33m\u001b[0m\u001b[0m\n\u001b[1;32m---> 56\u001b[1;33m             \u001b[1;32mraise\u001b[0m \u001b[0mValueError\u001b[0m\u001b[1;33m(\u001b[0m\u001b[0mmsg_err\u001b[0m\u001b[1;33m.\u001b[0m\u001b[0mformat\u001b[0m\u001b[1;33m(\u001b[0m\u001b[0mtype_err\u001b[0m\u001b[1;33m,\u001b[0m \u001b[0mX\u001b[0m\u001b[1;33m.\u001b[0m\u001b[0mdtype\u001b[0m\u001b[1;33m)\u001b[0m\u001b[1;33m)\u001b[0m\u001b[1;33m\u001b[0m\u001b[1;33m\u001b[0m\u001b[0m\n\u001b[0m\u001b[0;32m     57\u001b[0m     \u001b[1;31m# for object dtype data, we only check for NaNs (GH-13254)\u001b[0m\u001b[1;33m\u001b[0m\u001b[1;33m\u001b[0m\u001b[1;33m\u001b[0m\u001b[0m\n\u001b[0;32m     58\u001b[0m     \u001b[1;32melif\u001b[0m \u001b[0mX\u001b[0m\u001b[1;33m.\u001b[0m\u001b[0mdtype\u001b[0m \u001b[1;33m==\u001b[0m \u001b[0mnp\u001b[0m\u001b[1;33m.\u001b[0m\u001b[0mdtype\u001b[0m\u001b[1;33m(\u001b[0m\u001b[1;34m'object'\u001b[0m\u001b[1;33m)\u001b[0m \u001b[1;32mand\u001b[0m \u001b[1;32mnot\u001b[0m \u001b[0mallow_nan\u001b[0m\u001b[1;33m:\u001b[0m\u001b[1;33m\u001b[0m\u001b[1;33m\u001b[0m\u001b[0m\n",
      "\u001b[1;31mValueError\u001b[0m: Input contains NaN, infinity or a value too large for dtype('float64')."
     ]
    }
   ],
   "source": [
    "from sklearn.linear_model import LinearRegression #Modellen importeres fra scikit\n",
    "model = LinearRegression() #Modellen specficeres\n",
    "\n",
    "X = ess['height'].to_frame() #X som dataframe\n",
    "Y = ess['weight'] #Y som serie\n",
    "\n",
    "model.fit(X, Y)"
   ]
  },
  {
   "cell_type": "markdown",
   "metadata": {},
   "source": [
    "Det giver dog fejl - hvorfor?"
   ]
  },
  {
   "cell_type": "markdown",
   "metadata": {},
   "source": [
    "## Behandling af missing\n",
    "\n",
    "Scikit-learn har ikke indbyggede funktioner til håndtering af missing. For at kunne bruge modellerne i scikit-learn, skal missingværdier derfor håndteres først. Missing håndteres på en af to måder:\n",
    "\n",
    "- Rækker med missing fjernes (listwise deletion)\n",
    "- Værdier \"imputeres\"; dvs. erstattes med en bestemt værdi.\n",
    "\n",
    "I dag gennemgås blot hvordan missing fjernes eller erstattes med enkelte værdier."
   ]
  },
  {
   "cell_type": "markdown",
   "metadata": {},
   "source": [
    "### Fjern eller erstat missing\n",
    "\n",
    "En pandas dataframe (og serie) har flere indbyggede metoder til at håndtere missing. De mest simple er:\n",
    "\n",
    "- `.dropna()`: listwise deletion af observationer, som indeholder missing værdier\n",
    "- `.fillna()`: erstatter missing med en angiven værdi\n",
    "\n",
    "Derudover findes også disse metoder, som særligt er egnet til tidsserie data:\n",
    "\n",
    "- `ffill()`: erstatter missing værdi med værdien i næste række eller kolonne\n",
    "- `bfill()`: erstatter missing værdi med værdien i forrige række eller kolonne"
   ]
  },
  {
   "cell_type": "code",
   "execution_count": 64,
   "metadata": {},
   "outputs": [
    {
     "data": {
      "text/plain": [
       "0    10.0\n",
       "1     NaN\n",
       "2     NaN\n",
       "3     NaN\n",
       "4     NaN\n",
       "Name: cgtsday, dtype: float64"
      ]
     },
     "execution_count": 64,
     "metadata": {},
     "output_type": "execute_result"
    }
   ],
   "source": [
    "ess['cgtsday'].head() #oprindelig data"
   ]
  },
  {
   "cell_type": "code",
   "execution_count": 65,
   "metadata": {},
   "outputs": [
    {
     "data": {
      "text/plain": [
       "0     10.0\n",
       "8     20.0\n",
       "15    10.0\n",
       "20     1.0\n",
       "21    40.0\n",
       "Name: cgtsday, dtype: float64"
      ]
     },
     "execution_count": 65,
     "metadata": {},
     "output_type": "execute_result"
    }
   ],
   "source": [
    "ess['cgtsday'].dropna().head() #data med missing fjernet - læg mærke til rækkenummer"
   ]
  },
  {
   "cell_type": "code",
   "execution_count": 66,
   "metadata": {},
   "outputs": [
    {
     "data": {
      "text/plain": [
       "0    10.0\n",
       "1     0.0\n",
       "2     0.0\n",
       "3     0.0\n",
       "4     0.0\n",
       "Name: cgtsday, dtype: float64"
      ]
     },
     "execution_count": 66,
     "metadata": {},
     "output_type": "execute_result"
    }
   ],
   "source": [
    "ess['cgtsday'].fillna(0).head() #data med missing erstattet med 0"
   ]
  },
  {
   "cell_type": "markdown",
   "metadata": {},
   "source": [
    "Fill kan også bruges til at erstatte med middelværdi eller prædikterede værdier."
   ]
  },
  {
   "cell_type": "code",
   "execution_count": 69,
   "metadata": {},
   "outputs": [
    {
     "data": {
      "text/plain": [
       "0    10.0\n",
       "1    12.0\n",
       "2    12.0\n",
       "3    12.0\n",
       "4    12.0\n",
       "Name: cgtsday, dtype: float64"
      ]
     },
     "execution_count": 69,
     "metadata": {},
     "output_type": "execute_result"
    }
   ],
   "source": [
    "cgts_fill = ess['cgtsday'].mean()\n",
    "ess['cgtsday'].fillna(cgts_fill).head() #erstat missing med middelværdi"
   ]
  },
  {
   "cell_type": "code",
   "execution_count": 84,
   "metadata": {},
   "outputs": [
    {
     "data": {
      "text/plain": [
       "0    10.0\n",
       "1    11.0\n",
       "2    13.0\n",
       "3    11.0\n",
       "4    13.0\n",
       "Name: cgtsday, dtype: float64"
      ]
     },
     "execution_count": 84,
     "metadata": {},
     "output_type": "execute_result"
    }
   ],
   "source": [
    "cgts_fill_m = round(ess.loc[ess['gndr'] == 'Male', 'cgtsday'].mean())\n",
    "cgts_fill_f = round(ess.loc[ess['gndr'] == 'Female', 'cgtsday'].mean())\n",
    "\n",
    "def cgts_fill( gndr ):\n",
    "    if gndr == 'Male':\n",
    "        return(cgts_fill_m)\n",
    "    elif gndr == 'Female':\n",
    "        return(cgts_fill_f)\n",
    "\n",
    "ess['cgtsday'].fillna(ess['gndr'].map(cgts_fill)).head() #erstat med middel for køn"
   ]
  },
  {
   "cell_type": "markdown",
   "metadata": {},
   "source": [
    "Bemærk at vi ved at kalde metoderne ikke ændrer på noget. Vi skal derfor overskrive data eller lave kopi af data. Som altid er det bedst at bevare det oprindelige datasæt. Samtidig giver det i arbejde med modeller som disse mening at tænke det sådan, at man arbejder hen mod en udgave af datasættet, som skal bruges til en bestemt model."
   ]
  },
  {
   "cell_type": "markdown",
   "metadata": {},
   "source": [
    "## FÆLLESØVELSE: Hvordan får vi lavet en model mellem højde og vægt?\n",
    "\n",
    "Lad os prøve at se om vi kan løse problemet med højde og vægt..."
   ]
  },
  {
   "cell_type": "code",
   "execution_count": 85,
   "metadata": {},
   "outputs": [
    {
     "name": "stdout",
     "output_type": "stream",
     "text": [
      "Modellens skæringspunk: -84.95542530883658\n",
      "Model hældning:         0.9195374358680386\n",
      "R2                      0.28011301710998426\n"
     ]
    }
   ],
   "source": [
    "ess_mdata = ess.dropna() #kopi af datasæt hvor missingværdier fjernes\n",
    "\n",
    "X = ess_mdata['height'].to_frame()\n",
    "Y = ess_mdata['weight']\n",
    "\n",
    "model.fit(X, Y)\n",
    "print(\"Modellens skæringspunk:\", model.intercept_)\n",
    "print(\"Model hældning:        \", model.coef_[0])\n",
    "print(\"R2                     \", model.score(X, Y))"
   ]
  },
  {
   "cell_type": "markdown",
   "metadata": {},
   "source": [
    "## Hvad med andre variabeltyper?\n",
    "\n",
    "Vi har nu set på, hvordan vi modellerer med numeriske variable. Som det ses af datasættet, er der også andre typer variable."
   ]
  },
  {
   "cell_type": "code",
   "execution_count": 86,
   "metadata": {},
   "outputs": [
    {
     "data": {
      "text/html": [
       "<div>\n",
       "<style scoped>\n",
       "    .dataframe tbody tr th:only-of-type {\n",
       "        vertical-align: middle;\n",
       "    }\n",
       "\n",
       "    .dataframe tbody tr th {\n",
       "        vertical-align: top;\n",
       "    }\n",
       "\n",
       "    .dataframe thead th {\n",
       "        text-align: right;\n",
       "    }\n",
       "</style>\n",
       "<table border=\"1\" class=\"dataframe\">\n",
       "  <thead>\n",
       "    <tr style=\"text-align: right;\">\n",
       "      <th></th>\n",
       "      <th>idno</th>\n",
       "      <th>ppltrst</th>\n",
       "      <th>happy</th>\n",
       "      <th>cgtsday</th>\n",
       "      <th>alcfreq</th>\n",
       "      <th>height</th>\n",
       "      <th>weight</th>\n",
       "      <th>gndr</th>\n",
       "      <th>yrbrn</th>\n",
       "    </tr>\n",
       "  </thead>\n",
       "  <tbody>\n",
       "    <tr>\n",
       "      <td>0</td>\n",
       "      <td>921018</td>\n",
       "      <td>6</td>\n",
       "      <td>9</td>\n",
       "      <td>10.0</td>\n",
       "      <td>2-3 times a month</td>\n",
       "      <td>178.0</td>\n",
       "      <td>64.0</td>\n",
       "      <td>Male</td>\n",
       "      <td>1990.0</td>\n",
       "    </tr>\n",
       "    <tr>\n",
       "      <td>1</td>\n",
       "      <td>921026</td>\n",
       "      <td>8</td>\n",
       "      <td>8</td>\n",
       "      <td>NaN</td>\n",
       "      <td>Several times a week</td>\n",
       "      <td>172.0</td>\n",
       "      <td>64.0</td>\n",
       "      <td>Female</td>\n",
       "      <td>1948.0</td>\n",
       "    </tr>\n",
       "    <tr>\n",
       "      <td>2</td>\n",
       "      <td>921034</td>\n",
       "      <td>8</td>\n",
       "      <td>8</td>\n",
       "      <td>NaN</td>\n",
       "      <td>Every day</td>\n",
       "      <td>176.0</td>\n",
       "      <td>87.0</td>\n",
       "      <td>Male</td>\n",
       "      <td>1957.0</td>\n",
       "    </tr>\n",
       "    <tr>\n",
       "      <td>3</td>\n",
       "      <td>921076</td>\n",
       "      <td>8</td>\n",
       "      <td>8</td>\n",
       "      <td>NaN</td>\n",
       "      <td>Several times a week</td>\n",
       "      <td>162.0</td>\n",
       "      <td>70.0</td>\n",
       "      <td>Female</td>\n",
       "      <td>1958.0</td>\n",
       "    </tr>\n",
       "    <tr>\n",
       "      <td>4</td>\n",
       "      <td>921084</td>\n",
       "      <td>5</td>\n",
       "      <td>8</td>\n",
       "      <td>NaN</td>\n",
       "      <td>Every day</td>\n",
       "      <td>175.0</td>\n",
       "      <td>80.0</td>\n",
       "      <td>Male</td>\n",
       "      <td>1936.0</td>\n",
       "    </tr>\n",
       "  </tbody>\n",
       "</table>\n",
       "</div>"
      ],
      "text/plain": [
       "     idno ppltrst happy  cgtsday               alcfreq  height  weight  \\\n",
       "0  921018       6     9     10.0     2-3 times a month   178.0    64.0   \n",
       "1  921026       8     8      NaN  Several times a week   172.0    64.0   \n",
       "2  921034       8     8      NaN             Every day   176.0    87.0   \n",
       "3  921076       8     8      NaN  Several times a week   162.0    70.0   \n",
       "4  921084       5     8      NaN             Every day   175.0    80.0   \n",
       "\n",
       "     gndr   yrbrn  \n",
       "0    Male  1990.0  \n",
       "1  Female  1948.0  \n",
       "2    Male  1957.0  \n",
       "3  Female  1958.0  \n",
       "4    Male  1936.0  "
      ]
     },
     "execution_count": 86,
     "metadata": {},
     "output_type": "execute_result"
    }
   ],
   "source": [
    "ess.head()"
   ]
  },
  {
   "cell_type": "markdown",
   "metadata": {},
   "source": [
    "Lad os for øvelsens skyld behandle \"happy\" som interval og se, hvordan variablen udvikler sig med alderen:"
   ]
  },
  {
   "cell_type": "code",
   "execution_count": 87,
   "metadata": {},
   "outputs": [
    {
     "ename": "TypeError",
     "evalue": "Could not convert 988888Extremely happy98884889Extremely happy99989Extremely happy9Extremely happy96Extremely happy899889998876Extremely happy3Extremely happy8759Extremely happyExtremely happy14797Extremely happy938969898888Extremely happyExtremely happy8Extremely happy7899Extremely happy9Extremely happy8Extremely happy8889Extremely happy3989989Extremely happy98997889885Extremely happy89297879Extremely happy989889259Extremely happy99Extremely happy898Extremely happy988Extremely happy789Extremely happy99Extremely happy9987Extremely happyExtremely happy8979998898Extremely happy5988999Extremely happy89Extremely happy7788Extremely happy96958878857989Extremely happy9Extremely happy8Extremely happy88898Extremely happy7899Extremely happyExtremely happy996988598Extremely happy9978Extremely happy98597979Extremely happy958987Extremely happy989299767999899888Extremely happyExtremely happy8Extremely happyExtremely happy9999989Extremely happy587999969879Extremely happy998995879598Extremely happy988879888Extremely happy7759Extremely happy9Extremely happy8788Extremely happy1Extremely happy9Extremely happy86982Extremely happy9879976Extremely happy784Extremely happy59Extremely happy9Extremely happy88Extremely happyExtremely happy8987Extremely happy99Extremely happy89898Extremely happy7Extremely happy999889888628Extremely happy87867Extremely happy989Extremely happy96788866968Extremely happy8Extremely happy6Extremely happyExtremely happy8Extremely happyExtremely happy88979Extremely happy65978Extremely happyExtremely happyExtremely happyExtremely happy889Extremely happy97Extremely happy997Extremely happyExtremely happyExtremely happyExtremely happyExtremely happy989Extremely happy889Extremely happy81878Extremely happy8979797878878888889Extremely happyExtremely happy988Extremely happy59Extremely happy997Extremely happy7Extremely happy86417996688889Extremely happy887Extremely happy9979Extremely happy99898Extremely happyExtremely happy8Extremely happyExtremely happy97675967Extremely happy699Extremely happy7876988878Extremely happy9Extremely happy9699Extremely happyExtremely happy888993Extremely happy7Extremely happyExtremely happy9979Extremely happyExtremely happy8Extremely happy89956Extremely happy999927Extremely happy887Extremely happy99998Extremely happy87898Extremely happyExtremely happy9Extremely happy8Extremely happy8993989883795879887Extremely happy888Extremely happy8989878Extremely happy988Extremely happy7998Extremely happy978879Extremely happy86Extremely happy989988889989Extremely happy98886988Extremely happy79Extremely happy7Extremely happy959888789988Extremely happyExtremely happyExtremely happy6799Extremely happyExtremely happy986Extremely happy779Extremely happy897798Extremely happy888Extremely happy68Extremely happy976Extremely happyExtremely happy89899968984889997988999Extremely happy889958Extremely happy879939778Extremely happy9999838779Extremely happyExtremely happy99Extremely happy8Extremely happyExtremely happy879Extremely happy39899Extremely happy789Extremely happy98Extremely happy9768Extremely happy8889Extremely happy89879998988898Extremely happy99995Extremely happy989989889Extremely happy68Extremely happy77898Extremely happy9899885Extremely happy879899879Extremely happy8Extremely happyExtremely happy98988Extremely happyExtremely happy5987Extremely happyExtremely happy889Extremely happy8Extremely happy8388Extremely happy999398987Extremely happy89878788789Extremely happy788987Extremely happy9789787Extremely happy986Extremely happyExtremely happy962988889Extremely happy77889Extremely happy799867Extremely happy9Extremely happy9979798Extremely happy9Extremely happy858Extremely happy89888893848Extremely happy999Extremely happy78999Extremely happy968998888Extremely happy86876799Extremely happy96Extremely happyExtremely happy8988816639988948829Extremely happy7Extremely happy79Extremely happy5993Extremely happy8989Extremely happyExtremely happy959975Extremely happy86Extremely happy8799967Extremely happy999889878Extremely unhappy6Extremely happy88Extremely happy9Extremely happy78Extremely happy9879Extremely happy6889795575958998458Extremely happy7Extremely happy9Extremely happy89Extremely happy98Extremely happy8989879988Extremely happy88789989795985838587979799898Extremely happy29Extremely happy887899Extremely happy7889Extremely happy58797Extremely happy989788688Extremely happyExtremely happy89Extremely happy98Extremely happy8Extremely happy88879Extremely happy8Extremely happy8876Extremely happy8Extremely happy89788884898Extremely happy959Extremely happy98789Extremely happy898898899Extremely happy988Extremely happyExtremely happy9289778Extremely happy98875Extremely happy889Extremely happy98797879Extremely happy5Extremely happy89Extremely happy8869889898898Extremely happy698798978997997Extremely happy98Extremely happy646978998989Extremely happy9Extremely happy9Extremely happy88899878897779997Extremely happy98878Extremely happy788Extremely happy9Extremely happy8Extremely happy59Extremely happy98Extremely happy9Extremely happy7887798Extremely happy97Extremely happy78Extremely happy8688827768Extremely happy98879Extremely happy68Extremely happy959589998Extremely happy97Extremely happyExtremely happyExtremely happyExtremely happy9Extremely happy8988798849Extremely happy89899988Extremely happy8999Extremely happy3897Extremely happyExtremely happy49Extremely happyExtremely happy998988877Extremely happyExtremely happy999798898Extremely happy to numeric",
     "output_type": "error",
     "traceback": [
      "\u001b[1;31m---------------------------------------------------------------------------\u001b[0m",
      "\u001b[1;31mValueError\u001b[0m                                Traceback (most recent call last)",
      "\u001b[1;32mC:\\programs\\Continuum\\anaconda3\\lib\\site-packages\\pandas\\core\\nanops.py\u001b[0m in \u001b[0;36m_ensure_numeric\u001b[1;34m(x)\u001b[0m\n\u001b[0;32m   1303\u001b[0m         \u001b[1;32mtry\u001b[0m\u001b[1;33m:\u001b[0m\u001b[1;33m\u001b[0m\u001b[1;33m\u001b[0m\u001b[0m\n\u001b[1;32m-> 1304\u001b[1;33m             \u001b[0mx\u001b[0m \u001b[1;33m=\u001b[0m \u001b[0mfloat\u001b[0m\u001b[1;33m(\u001b[0m\u001b[0mx\u001b[0m\u001b[1;33m)\u001b[0m\u001b[1;33m\u001b[0m\u001b[1;33m\u001b[0m\u001b[0m\n\u001b[0m\u001b[0;32m   1305\u001b[0m         \u001b[1;32mexcept\u001b[0m \u001b[0mException\u001b[0m\u001b[1;33m:\u001b[0m\u001b[1;33m\u001b[0m\u001b[1;33m\u001b[0m\u001b[0m\n",
      "\u001b[1;31mValueError\u001b[0m: could not convert string to float: '988888Extremely happy98884889Extremely happy99989Extremely happy9Extremely happy96Extremely happy899889998876Extremely happy3Extremely happy8759Extremely happyExtremely happy14797Extremely happy938969898888Extremely happyExtremely happy8Extremely happy7899Extremely happy9Extremely happy8Extremely happy8889Extremely happy3989989Extremely happy98997889885Extremely happy89297879Extremely happy989889259Extremely happy99Extremely happy898Extremely happy988Extremely happy789Extremely happy99Extremely happy9987Extremely happyExtremely happy8979998898Extremely happy5988999Extremely happy89Extremely happy7788Extremely happy96958878857989Extremely happy9Extremely happy8Extremely happy88898Extremely happy7899Extremely happyExtremely happy996988598Extremely happy9978Extremely happy98597979Extremely happy958987Extremely happy989299767999899888Extremely happyExtremely happy8Extremely happyExtremely happy9999989Extremely happy587999969879Extremely happy998995879598Extremely happy988879888Extremely happy7759Extremely happy9Extremely happy8788Extremely happy1Extremely happy9Extremely happy86982Extremely happy9879976Extremely happy784Extremely happy59Extremely happy9Extremely happy88Extremely happyExtremely happy8987Extremely happy99Extremely happy89898Extremely happy7Extremely happy999889888628Extremely happy87867Extremely happy989Extremely happy96788866968Extremely happy8Extremely happy6Extremely happyExtremely happy8Extremely happyExtremely happy88979Extremely happy65978Extremely happyExtremely happyExtremely happyExtremely happy889Extremely happy97Extremely happy997Extremely happyExtremely happyExtremely happyExtremely happyExtremely happy989Extremely happy889Extremely happy81878Extremely happy8979797878878888889Extremely happyExtremely happy988Extremely happy59Extremely happy997Extremely happy7Extremely happy86417996688889Extremely happy887Extremely happy9979Extremely happy99898Extremely happyExtremely happy8Extremely happyExtremely happy97675967Extremely happy699Extremely happy7876988878Extremely happy9Extremely happy9699Extremely happyExtremely happy888993Extremely happy7Extremely happyExtremely happy9979Extremely happyExtremely happy8Extremely happy89956Extremely happy999927Extremely happy887Extremely happy99998Extremely happy87898Extremely happyExtremely happy9Extremely happy8Extremely happy8993989883795879887Extremely happy888Extremely happy8989878Extremely happy988Extremely happy7998Extremely happy978879Extremely happy86Extremely happy989988889989Extremely happy98886988Extremely happy79Extremely happy7Extremely happy959888789988Extremely happyExtremely happyExtremely happy6799Extremely happyExtremely happy986Extremely happy779Extremely happy897798Extremely happy888Extremely happy68Extremely happy976Extremely happyExtremely happy89899968984889997988999Extremely happy889958Extremely happy879939778Extremely happy9999838779Extremely happyExtremely happy99Extremely happy8Extremely happyExtremely happy879Extremely happy39899Extremely happy789Extremely happy98Extremely happy9768Extremely happy8889Extremely happy89879998988898Extremely happy99995Extremely happy989989889Extremely happy68Extremely happy77898Extremely happy9899885Extremely happy879899879Extremely happy8Extremely happyExtremely happy98988Extremely happyExtremely happy5987Extremely happyExtremely happy889Extremely happy8Extremely happy8388Extremely happy999398987Extremely happy89878788789Extremely happy788987Extremely happy9789787Extremely happy986Extremely happyExtremely happy962988889Extremely happy77889Extremely happy799867Extremely happy9Extremely happy9979798Extremely happy9Extremely happy858Extremely happy89888893848Extremely happy999Extremely happy78999Extremely happy968998888Extremely happy86876799Extremely happy96Extremely happyExtremely happy8988816639988948829Extremely happy7Extremely happy79Extremely happy5993Extremely happy8989Extremely happyExtremely happy959975Extremely happy86Extremely happy8799967Extremely happy999889878Extremely unhappy6Extremely happy88Extremely happy9Extremely happy78Extremely happy9879Extremely happy6889795575958998458Extremely happy7Extremely happy9Extremely happy89Extremely happy98Extremely happy8989879988Extremely happy88789989795985838587979799898Extremely happy29Extremely happy887899Extremely happy7889Extremely happy58797Extremely happy989788688Extremely happyExtremely happy89Extremely happy98Extremely happy8Extremely happy88879Extremely happy8Extremely happy8876Extremely happy8Extremely happy89788884898Extremely happy959Extremely happy98789Extremely happy898898899Extremely happy988Extremely happyExtremely happy9289778Extremely happy98875Extremely happy889Extremely happy98797879Extremely happy5Extremely happy89Extremely happy8869889898898Extremely happy698798978997997Extremely happy98Extremely happy646978998989Extremely happy9Extremely happy9Extremely happy88899878897779997Extremely happy98878Extremely happy788Extremely happy9Extremely happy8Extremely happy59Extremely happy98Extremely happy9Extremely happy7887798Extremely happy97Extremely happy78Extremely happy8688827768Extremely happy98879Extremely happy68Extremely happy959589998Extremely happy97Extremely happyExtremely happyExtremely happyExtremely happy9Extremely happy8988798849Extremely happy89899988Extremely happy8999Extremely happy3897Extremely happyExtremely happy49Extremely happyExtremely happy998988877Extremely happyExtremely happy999798898Extremely happy'",
      "\nDuring handling of the above exception, another exception occurred:\n",
      "\u001b[1;31mValueError\u001b[0m                                Traceback (most recent call last)",
      "\u001b[1;32mC:\\programs\\Continuum\\anaconda3\\lib\\site-packages\\pandas\\core\\nanops.py\u001b[0m in \u001b[0;36m_ensure_numeric\u001b[1;34m(x)\u001b[0m\n\u001b[0;32m   1306\u001b[0m             \u001b[1;32mtry\u001b[0m\u001b[1;33m:\u001b[0m\u001b[1;33m\u001b[0m\u001b[1;33m\u001b[0m\u001b[0m\n\u001b[1;32m-> 1307\u001b[1;33m                 \u001b[0mx\u001b[0m \u001b[1;33m=\u001b[0m \u001b[0mcomplex\u001b[0m\u001b[1;33m(\u001b[0m\u001b[0mx\u001b[0m\u001b[1;33m)\u001b[0m\u001b[1;33m\u001b[0m\u001b[1;33m\u001b[0m\u001b[0m\n\u001b[0m\u001b[0;32m   1308\u001b[0m             \u001b[1;32mexcept\u001b[0m \u001b[0mException\u001b[0m\u001b[1;33m:\u001b[0m\u001b[1;33m\u001b[0m\u001b[1;33m\u001b[0m\u001b[0m\n",
      "\u001b[1;31mValueError\u001b[0m: complex() arg is a malformed string",
      "\nDuring handling of the above exception, another exception occurred:\n",
      "\u001b[1;31mTypeError\u001b[0m                                 Traceback (most recent call last)",
      "\u001b[1;32mC:\\programs\\Continuum\\anaconda3\\lib\\site-packages\\pandas\\core\\nanops.py\u001b[0m in \u001b[0;36mf\u001b[1;34m(values, axis, skipna, **kwds)\u001b[0m\n\u001b[0;32m    119\u001b[0m                 \u001b[1;32melse\u001b[0m\u001b[1;33m:\u001b[0m\u001b[1;33m\u001b[0m\u001b[1;33m\u001b[0m\u001b[0m\n\u001b[1;32m--> 120\u001b[1;33m                     \u001b[0mresult\u001b[0m \u001b[1;33m=\u001b[0m \u001b[0malt\u001b[0m\u001b[1;33m(\u001b[0m\u001b[0mvalues\u001b[0m\u001b[1;33m,\u001b[0m \u001b[0maxis\u001b[0m\u001b[1;33m=\u001b[0m\u001b[0maxis\u001b[0m\u001b[1;33m,\u001b[0m \u001b[0mskipna\u001b[0m\u001b[1;33m=\u001b[0m\u001b[0mskipna\u001b[0m\u001b[1;33m,\u001b[0m \u001b[1;33m**\u001b[0m\u001b[0mkwds\u001b[0m\u001b[1;33m)\u001b[0m\u001b[1;33m\u001b[0m\u001b[1;33m\u001b[0m\u001b[0m\n\u001b[0m\u001b[0;32m    121\u001b[0m             \u001b[1;32mexcept\u001b[0m \u001b[0mException\u001b[0m\u001b[1;33m:\u001b[0m\u001b[1;33m\u001b[0m\u001b[1;33m\u001b[0m\u001b[0m\n",
      "\u001b[1;32mC:\\programs\\Continuum\\anaconda3\\lib\\site-packages\\pandas\\core\\nanops.py\u001b[0m in \u001b[0;36mnanmean\u001b[1;34m(values, axis, skipna, mask)\u001b[0m\n\u001b[0;32m    550\u001b[0m     \u001b[0mcount\u001b[0m \u001b[1;33m=\u001b[0m \u001b[0m_get_counts\u001b[0m\u001b[1;33m(\u001b[0m\u001b[0mvalues\u001b[0m\u001b[1;33m.\u001b[0m\u001b[0mshape\u001b[0m\u001b[1;33m,\u001b[0m \u001b[0mmask\u001b[0m\u001b[1;33m,\u001b[0m \u001b[0maxis\u001b[0m\u001b[1;33m,\u001b[0m \u001b[0mdtype\u001b[0m\u001b[1;33m=\u001b[0m\u001b[0mdtype_count\u001b[0m\u001b[1;33m)\u001b[0m\u001b[1;33m\u001b[0m\u001b[1;33m\u001b[0m\u001b[0m\n\u001b[1;32m--> 551\u001b[1;33m     \u001b[0mthe_sum\u001b[0m \u001b[1;33m=\u001b[0m \u001b[0m_ensure_numeric\u001b[0m\u001b[1;33m(\u001b[0m\u001b[0mvalues\u001b[0m\u001b[1;33m.\u001b[0m\u001b[0msum\u001b[0m\u001b[1;33m(\u001b[0m\u001b[0maxis\u001b[0m\u001b[1;33m,\u001b[0m \u001b[0mdtype\u001b[0m\u001b[1;33m=\u001b[0m\u001b[0mdtype_sum\u001b[0m\u001b[1;33m)\u001b[0m\u001b[1;33m)\u001b[0m\u001b[1;33m\u001b[0m\u001b[1;33m\u001b[0m\u001b[0m\n\u001b[0m\u001b[0;32m    552\u001b[0m \u001b[1;33m\u001b[0m\u001b[0m\n",
      "\u001b[1;32mC:\\programs\\Continuum\\anaconda3\\lib\\site-packages\\pandas\\core\\nanops.py\u001b[0m in \u001b[0;36m_ensure_numeric\u001b[1;34m(x)\u001b[0m\n\u001b[0;32m   1309\u001b[0m                 raise TypeError(\n\u001b[1;32m-> 1310\u001b[1;33m                     \u001b[1;34m\"Could not convert {value!s} to numeric\"\u001b[0m\u001b[1;33m.\u001b[0m\u001b[0mformat\u001b[0m\u001b[1;33m(\u001b[0m\u001b[0mvalue\u001b[0m\u001b[1;33m=\u001b[0m\u001b[0mx\u001b[0m\u001b[1;33m)\u001b[0m\u001b[1;33m\u001b[0m\u001b[1;33m\u001b[0m\u001b[0m\n\u001b[0m\u001b[0;32m   1311\u001b[0m                 )\n",
      "\u001b[1;31mTypeError\u001b[0m: Could not convert 988888Extremely happy98884889Extremely happy99989Extremely happy9Extremely happy96Extremely happy899889998876Extremely happy3Extremely happy8759Extremely happyExtremely happy14797Extremely happy938969898888Extremely happyExtremely happy8Extremely happy7899Extremely happy9Extremely happy8Extremely happy8889Extremely happy3989989Extremely happy98997889885Extremely happy89297879Extremely happy989889259Extremely happy99Extremely happy898Extremely happy988Extremely happy789Extremely happy99Extremely happy9987Extremely happyExtremely happy8979998898Extremely happy5988999Extremely happy89Extremely happy7788Extremely happy96958878857989Extremely happy9Extremely happy8Extremely happy88898Extremely happy7899Extremely happyExtremely happy996988598Extremely happy9978Extremely happy98597979Extremely happy958987Extremely happy989299767999899888Extremely happyExtremely happy8Extremely happyExtremely happy9999989Extremely happy587999969879Extremely happy998995879598Extremely happy988879888Extremely happy7759Extremely happy9Extremely happy8788Extremely happy1Extremely happy9Extremely happy86982Extremely happy9879976Extremely happy784Extremely happy59Extremely happy9Extremely happy88Extremely happyExtremely happy8987Extremely happy99Extremely happy89898Extremely happy7Extremely happy999889888628Extremely happy87867Extremely happy989Extremely happy96788866968Extremely happy8Extremely happy6Extremely happyExtremely happy8Extremely happyExtremely happy88979Extremely happy65978Extremely happyExtremely happyExtremely happyExtremely happy889Extremely happy97Extremely happy997Extremely happyExtremely happyExtremely happyExtremely happyExtremely happy989Extremely happy889Extremely happy81878Extremely happy8979797878878888889Extremely happyExtremely happy988Extremely happy59Extremely happy997Extremely happy7Extremely happy86417996688889Extremely happy887Extremely happy9979Extremely happy99898Extremely happyExtremely happy8Extremely happyExtremely happy97675967Extremely happy699Extremely happy7876988878Extremely happy9Extremely happy9699Extremely happyExtremely happy888993Extremely happy7Extremely happyExtremely happy9979Extremely happyExtremely happy8Extremely happy89956Extremely happy999927Extremely happy887Extremely happy99998Extremely happy87898Extremely happyExtremely happy9Extremely happy8Extremely happy8993989883795879887Extremely happy888Extremely happy8989878Extremely happy988Extremely happy7998Extremely happy978879Extremely happy86Extremely happy989988889989Extremely happy98886988Extremely happy79Extremely happy7Extremely happy959888789988Extremely happyExtremely happyExtremely happy6799Extremely happyExtremely happy986Extremely happy779Extremely happy897798Extremely happy888Extremely happy68Extremely happy976Extremely happyExtremely happy89899968984889997988999Extremely happy889958Extremely happy879939778Extremely happy9999838779Extremely happyExtremely happy99Extremely happy8Extremely happyExtremely happy879Extremely happy39899Extremely happy789Extremely happy98Extremely happy9768Extremely happy8889Extremely happy89879998988898Extremely happy99995Extremely happy989989889Extremely happy68Extremely happy77898Extremely happy9899885Extremely happy879899879Extremely happy8Extremely happyExtremely happy98988Extremely happyExtremely happy5987Extremely happyExtremely happy889Extremely happy8Extremely happy8388Extremely happy999398987Extremely happy89878788789Extremely happy788987Extremely happy9789787Extremely happy986Extremely happyExtremely happy962988889Extremely happy77889Extremely happy799867Extremely happy9Extremely happy9979798Extremely happy9Extremely happy858Extremely happy89888893848Extremely happy999Extremely happy78999Extremely happy968998888Extremely happy86876799Extremely happy96Extremely happyExtremely happy8988816639988948829Extremely happy7Extremely happy79Extremely happy5993Extremely happy8989Extremely happyExtremely happy959975Extremely happy86Extremely happy8799967Extremely happy999889878Extremely unhappy6Extremely happy88Extremely happy9Extremely happy78Extremely happy9879Extremely happy6889795575958998458Extremely happy7Extremely happy9Extremely happy89Extremely happy98Extremely happy8989879988Extremely happy88789989795985838587979799898Extremely happy29Extremely happy887899Extremely happy7889Extremely happy58797Extremely happy989788688Extremely happyExtremely happy89Extremely happy98Extremely happy8Extremely happy88879Extremely happy8Extremely happy8876Extremely happy8Extremely happy89788884898Extremely happy959Extremely happy98789Extremely happy898898899Extremely happy988Extremely happyExtremely happy9289778Extremely happy98875Extremely happy889Extremely happy98797879Extremely happy5Extremely happy89Extremely happy8869889898898Extremely happy698798978997997Extremely happy98Extremely happy646978998989Extremely happy9Extremely happy9Extremely happy88899878897779997Extremely happy98878Extremely happy788Extremely happy9Extremely happy8Extremely happy59Extremely happy98Extremely happy9Extremely happy7887798Extremely happy97Extremely happy78Extremely happy8688827768Extremely happy98879Extremely happy68Extremely happy959589998Extremely happy97Extremely happyExtremely happyExtremely happyExtremely happy9Extremely happy8988798849Extremely happy89899988Extremely happy8999Extremely happy3897Extremely happyExtremely happy49Extremely happyExtremely happy998988877Extremely happyExtremely happy999798898Extremely happy to numeric",
      "\nDuring handling of the above exception, another exception occurred:\n",
      "\u001b[1;31mValueError\u001b[0m                                Traceback (most recent call last)",
      "\u001b[1;32mC:\\programs\\Continuum\\anaconda3\\lib\\site-packages\\pandas\\core\\nanops.py\u001b[0m in \u001b[0;36m_ensure_numeric\u001b[1;34m(x)\u001b[0m\n\u001b[0;32m   1303\u001b[0m         \u001b[1;32mtry\u001b[0m\u001b[1;33m:\u001b[0m\u001b[1;33m\u001b[0m\u001b[1;33m\u001b[0m\u001b[0m\n\u001b[1;32m-> 1304\u001b[1;33m             \u001b[0mx\u001b[0m \u001b[1;33m=\u001b[0m \u001b[0mfloat\u001b[0m\u001b[1;33m(\u001b[0m\u001b[0mx\u001b[0m\u001b[1;33m)\u001b[0m\u001b[1;33m\u001b[0m\u001b[1;33m\u001b[0m\u001b[0m\n\u001b[0m\u001b[0;32m   1305\u001b[0m         \u001b[1;32mexcept\u001b[0m \u001b[0mException\u001b[0m\u001b[1;33m:\u001b[0m\u001b[1;33m\u001b[0m\u001b[1;33m\u001b[0m\u001b[0m\n",
      "\u001b[1;31mValueError\u001b[0m: could not convert string to float: '988888Extremely happy98884889Extremely happy99989Extremely happy9Extremely happy96Extremely happy899889998876Extremely happy3Extremely happy8759Extremely happyExtremely happy14797Extremely happy938969898888Extremely happyExtremely happy8Extremely happy7899Extremely happy9Extremely happy8Extremely happy8889Extremely happy3989989Extremely happy98997889885Extremely happy89297879Extremely happy989889259Extremely happy99Extremely happy898Extremely happy988Extremely happy789Extremely happy99Extremely happy9987Extremely happyExtremely happy8979998898Extremely happy5988999Extremely happy89Extremely happy7788Extremely happy96958878857989Extremely happy9Extremely happy8Extremely happy88898Extremely happy7899Extremely happyExtremely happy996988598Extremely happy9978Extremely happy98597979Extremely happy958987Extremely happy989299767999899888Extremely happyExtremely happy8Extremely happyExtremely happy9999989Extremely happy587999969879Extremely happy998995879598Extremely happy988879888Extremely happy7759Extremely happy9Extremely happy8788Extremely happy1Extremely happy9Extremely happy86982Extremely happy9879976Extremely happy784Extremely happy59Extremely happy9Extremely happy88Extremely happyExtremely happy8987Extremely happy99Extremely happy89898Extremely happy7Extremely happy999889888628Extremely happy87867Extremely happy989Extremely happy96788866968Extremely happy8Extremely happy6Extremely happyExtremely happy8Extremely happyExtremely happy88979Extremely happy65978Extremely happyExtremely happyExtremely happyExtremely happy889Extremely happy97Extremely happy997Extremely happyExtremely happyExtremely happyExtremely happyExtremely happy989Extremely happy889Extremely happy81878Extremely happy8979797878878888889Extremely happyExtremely happy988Extremely happy59Extremely happy997Extremely happy7Extremely happy86417996688889Extremely happy887Extremely happy9979Extremely happy99898Extremely happyExtremely happy8Extremely happyExtremely happy97675967Extremely happy699Extremely happy7876988878Extremely happy9Extremely happy9699Extremely happyExtremely happy888993Extremely happy7Extremely happyExtremely happy9979Extremely happyExtremely happy8Extremely happy89956Extremely happy999927Extremely happy887Extremely happy99998Extremely happy87898Extremely happyExtremely happy9Extremely happy8Extremely happy8993989883795879887Extremely happy888Extremely happy8989878Extremely happy988Extremely happy7998Extremely happy978879Extremely happy86Extremely happy989988889989Extremely happy98886988Extremely happy79Extremely happy7Extremely happy959888789988Extremely happyExtremely happyExtremely happy6799Extremely happyExtremely happy986Extremely happy779Extremely happy897798Extremely happy888Extremely happy68Extremely happy976Extremely happyExtremely happy89899968984889997988999Extremely happy889958Extremely happy879939778Extremely happy9999838779Extremely happyExtremely happy99Extremely happy8Extremely happyExtremely happy879Extremely happy39899Extremely happy789Extremely happy98Extremely happy9768Extremely happy8889Extremely happy89879998988898Extremely happy99995Extremely happy989989889Extremely happy68Extremely happy77898Extremely happy9899885Extremely happy879899879Extremely happy8Extremely happyExtremely happy98988Extremely happyExtremely happy5987Extremely happyExtremely happy889Extremely happy8Extremely happy8388Extremely happy999398987Extremely happy89878788789Extremely happy788987Extremely happy9789787Extremely happy986Extremely happyExtremely happy962988889Extremely happy77889Extremely happy799867Extremely happy9Extremely happy9979798Extremely happy9Extremely happy858Extremely happy89888893848Extremely happy999Extremely happy78999Extremely happy968998888Extremely happy86876799Extremely happy96Extremely happyExtremely happy8988816639988948829Extremely happy7Extremely happy79Extremely happy5993Extremely happy8989Extremely happyExtremely happy959975Extremely happy86Extremely happy8799967Extremely happy999889878Extremely unhappy6Extremely happy88Extremely happy9Extremely happy78Extremely happy9879Extremely happy6889795575958998458Extremely happy7Extremely happy9Extremely happy89Extremely happy98Extremely happy8989879988Extremely happy88789989795985838587979799898Extremely happy29Extremely happy887899Extremely happy7889Extremely happy58797Extremely happy989788688Extremely happyExtremely happy89Extremely happy98Extremely happy8Extremely happy88879Extremely happy8Extremely happy8876Extremely happy8Extremely happy89788884898Extremely happy959Extremely happy98789Extremely happy898898899Extremely happy988Extremely happyExtremely happy9289778Extremely happy98875Extremely happy889Extremely happy98797879Extremely happy5Extremely happy89Extremely happy8869889898898Extremely happy698798978997997Extremely happy98Extremely happy646978998989Extremely happy9Extremely happy9Extremely happy88899878897779997Extremely happy98878Extremely happy788Extremely happy9Extremely happy8Extremely happy59Extremely happy98Extremely happy9Extremely happy7887798Extremely happy97Extremely happy78Extremely happy8688827768Extremely happy98879Extremely happy68Extremely happy959589998Extremely happy97Extremely happyExtremely happyExtremely happyExtremely happy9Extremely happy8988798849Extremely happy89899988Extremely happy8999Extremely happy3897Extremely happyExtremely happy49Extremely happyExtremely happy998988877Extremely happyExtremely happy999798898Extremely happy'",
      "\nDuring handling of the above exception, another exception occurred:\n",
      "\u001b[1;31mValueError\u001b[0m                                Traceback (most recent call last)",
      "\u001b[1;32mC:\\programs\\Continuum\\anaconda3\\lib\\site-packages\\pandas\\core\\nanops.py\u001b[0m in \u001b[0;36m_ensure_numeric\u001b[1;34m(x)\u001b[0m\n\u001b[0;32m   1306\u001b[0m             \u001b[1;32mtry\u001b[0m\u001b[1;33m:\u001b[0m\u001b[1;33m\u001b[0m\u001b[1;33m\u001b[0m\u001b[0m\n\u001b[1;32m-> 1307\u001b[1;33m                 \u001b[0mx\u001b[0m \u001b[1;33m=\u001b[0m \u001b[0mcomplex\u001b[0m\u001b[1;33m(\u001b[0m\u001b[0mx\u001b[0m\u001b[1;33m)\u001b[0m\u001b[1;33m\u001b[0m\u001b[1;33m\u001b[0m\u001b[0m\n\u001b[0m\u001b[0;32m   1308\u001b[0m             \u001b[1;32mexcept\u001b[0m \u001b[0mException\u001b[0m\u001b[1;33m:\u001b[0m\u001b[1;33m\u001b[0m\u001b[1;33m\u001b[0m\u001b[0m\n",
      "\u001b[1;31mValueError\u001b[0m: complex() arg is a malformed string",
      "\nDuring handling of the above exception, another exception occurred:\n",
      "\u001b[1;31mTypeError\u001b[0m                                 Traceback (most recent call last)",
      "\u001b[1;32m<ipython-input-87-631cb0b35f01>\u001b[0m in \u001b[0;36m<module>\u001b[1;34m\u001b[0m\n\u001b[0;32m      1\u001b[0m \u001b[0mplt\u001b[0m\u001b[1;33m.\u001b[0m\u001b[0mfigure\u001b[0m\u001b[1;33m(\u001b[0m\u001b[0mfigsize\u001b[0m\u001b[1;33m=\u001b[0m\u001b[1;33m(\u001b[0m\u001b[1;36m15\u001b[0m\u001b[1;33m,\u001b[0m\u001b[1;36m10\u001b[0m\u001b[1;33m)\u001b[0m\u001b[1;33m)\u001b[0m \u001b[1;31m#sætter størrelsen på figuren\u001b[0m\u001b[1;33m\u001b[0m\u001b[1;33m\u001b[0m\u001b[0m\n\u001b[1;32m----> 2\u001b[1;33m \u001b[0msns\u001b[0m\u001b[1;33m.\u001b[0m\u001b[0mregplot\u001b[0m\u001b[1;33m(\u001b[0m\u001b[0mx\u001b[0m \u001b[1;33m=\u001b[0m \u001b[1;34m'yrbrn'\u001b[0m\u001b[1;33m,\u001b[0m \u001b[0my\u001b[0m \u001b[1;33m=\u001b[0m \u001b[1;34m'happy'\u001b[0m\u001b[1;33m,\u001b[0m \u001b[0mdata\u001b[0m \u001b[1;33m=\u001b[0m \u001b[0mess\u001b[0m\u001b[1;33m)\u001b[0m \u001b[1;31m#scatterplot af højde og vægt med fitted regressionslinje\u001b[0m\u001b[1;33m\u001b[0m\u001b[1;33m\u001b[0m\u001b[0m\n\u001b[0m",
      "\u001b[1;32mC:\\programs\\Continuum\\anaconda3\\lib\\site-packages\\seaborn\\regression.py\u001b[0m in \u001b[0;36mregplot\u001b[1;34m(x, y, data, x_estimator, x_bins, x_ci, scatter, fit_reg, ci, n_boot, units, order, logistic, lowess, robust, logx, x_partial, y_partial, truncate, dropna, x_jitter, y_jitter, label, color, marker, scatter_kws, line_kws, ax)\u001b[0m\n\u001b[0;32m    787\u001b[0m     \u001b[0mscatter_kws\u001b[0m\u001b[1;33m[\u001b[0m\u001b[1;34m\"marker\"\u001b[0m\u001b[1;33m]\u001b[0m \u001b[1;33m=\u001b[0m \u001b[0mmarker\u001b[0m\u001b[1;33m\u001b[0m\u001b[1;33m\u001b[0m\u001b[0m\n\u001b[0;32m    788\u001b[0m     \u001b[0mline_kws\u001b[0m \u001b[1;33m=\u001b[0m \u001b[1;33m{\u001b[0m\u001b[1;33m}\u001b[0m \u001b[1;32mif\u001b[0m \u001b[0mline_kws\u001b[0m \u001b[1;32mis\u001b[0m \u001b[1;32mNone\u001b[0m \u001b[1;32melse\u001b[0m \u001b[0mcopy\u001b[0m\u001b[1;33m.\u001b[0m\u001b[0mcopy\u001b[0m\u001b[1;33m(\u001b[0m\u001b[0mline_kws\u001b[0m\u001b[1;33m)\u001b[0m\u001b[1;33m\u001b[0m\u001b[1;33m\u001b[0m\u001b[0m\n\u001b[1;32m--> 789\u001b[1;33m     \u001b[0mplotter\u001b[0m\u001b[1;33m.\u001b[0m\u001b[0mplot\u001b[0m\u001b[1;33m(\u001b[0m\u001b[0max\u001b[0m\u001b[1;33m,\u001b[0m \u001b[0mscatter_kws\u001b[0m\u001b[1;33m,\u001b[0m \u001b[0mline_kws\u001b[0m\u001b[1;33m)\u001b[0m\u001b[1;33m\u001b[0m\u001b[1;33m\u001b[0m\u001b[0m\n\u001b[0m\u001b[0;32m    790\u001b[0m     \u001b[1;32mreturn\u001b[0m \u001b[0max\u001b[0m\u001b[1;33m\u001b[0m\u001b[1;33m\u001b[0m\u001b[0m\n\u001b[0;32m    791\u001b[0m \u001b[1;33m\u001b[0m\u001b[0m\n",
      "\u001b[1;32mC:\\programs\\Continuum\\anaconda3\\lib\\site-packages\\seaborn\\regression.py\u001b[0m in \u001b[0;36mplot\u001b[1;34m(self, ax, scatter_kws, line_kws)\u001b[0m\n\u001b[0;32m    325\u001b[0m         \u001b[1;31m# Use the current color cycle state as a default\u001b[0m\u001b[1;33m\u001b[0m\u001b[1;33m\u001b[0m\u001b[1;33m\u001b[0m\u001b[0m\n\u001b[0;32m    326\u001b[0m         \u001b[1;32mif\u001b[0m \u001b[0mself\u001b[0m\u001b[1;33m.\u001b[0m\u001b[0mcolor\u001b[0m \u001b[1;32mis\u001b[0m \u001b[1;32mNone\u001b[0m\u001b[1;33m:\u001b[0m\u001b[1;33m\u001b[0m\u001b[1;33m\u001b[0m\u001b[0m\n\u001b[1;32m--> 327\u001b[1;33m             \u001b[0mlines\u001b[0m\u001b[1;33m,\u001b[0m \u001b[1;33m=\u001b[0m \u001b[0mplt\u001b[0m\u001b[1;33m.\u001b[0m\u001b[0mplot\u001b[0m\u001b[1;33m(\u001b[0m\u001b[0mself\u001b[0m\u001b[1;33m.\u001b[0m\u001b[0mx\u001b[0m\u001b[1;33m.\u001b[0m\u001b[0mmean\u001b[0m\u001b[1;33m(\u001b[0m\u001b[1;33m)\u001b[0m\u001b[1;33m,\u001b[0m \u001b[0mself\u001b[0m\u001b[1;33m.\u001b[0m\u001b[0my\u001b[0m\u001b[1;33m.\u001b[0m\u001b[0mmean\u001b[0m\u001b[1;33m(\u001b[0m\u001b[1;33m)\u001b[0m\u001b[1;33m)\u001b[0m\u001b[1;33m\u001b[0m\u001b[1;33m\u001b[0m\u001b[0m\n\u001b[0m\u001b[0;32m    328\u001b[0m             \u001b[0mcolor\u001b[0m \u001b[1;33m=\u001b[0m \u001b[0mlines\u001b[0m\u001b[1;33m.\u001b[0m\u001b[0mget_color\u001b[0m\u001b[1;33m(\u001b[0m\u001b[1;33m)\u001b[0m\u001b[1;33m\u001b[0m\u001b[1;33m\u001b[0m\u001b[0m\n\u001b[0;32m    329\u001b[0m             \u001b[0mlines\u001b[0m\u001b[1;33m.\u001b[0m\u001b[0mremove\u001b[0m\u001b[1;33m(\u001b[0m\u001b[1;33m)\u001b[0m\u001b[1;33m\u001b[0m\u001b[1;33m\u001b[0m\u001b[0m\n",
      "\u001b[1;32mC:\\programs\\Continuum\\anaconda3\\lib\\site-packages\\pandas\\core\\generic.py\u001b[0m in \u001b[0;36mstat_func\u001b[1;34m(self, axis, skipna, level, numeric_only, **kwargs)\u001b[0m\n\u001b[0;32m  11616\u001b[0m             \u001b[1;32mreturn\u001b[0m \u001b[0mself\u001b[0m\u001b[1;33m.\u001b[0m\u001b[0m_agg_by_level\u001b[0m\u001b[1;33m(\u001b[0m\u001b[0mname\u001b[0m\u001b[1;33m,\u001b[0m \u001b[0maxis\u001b[0m\u001b[1;33m=\u001b[0m\u001b[0maxis\u001b[0m\u001b[1;33m,\u001b[0m \u001b[0mlevel\u001b[0m\u001b[1;33m=\u001b[0m\u001b[0mlevel\u001b[0m\u001b[1;33m,\u001b[0m \u001b[0mskipna\u001b[0m\u001b[1;33m=\u001b[0m\u001b[0mskipna\u001b[0m\u001b[1;33m)\u001b[0m\u001b[1;33m\u001b[0m\u001b[1;33m\u001b[0m\u001b[0m\n\u001b[0;32m  11617\u001b[0m         return self._reduce(\n\u001b[1;32m> 11618\u001b[1;33m             \u001b[0mf\u001b[0m\u001b[1;33m,\u001b[0m \u001b[0mname\u001b[0m\u001b[1;33m,\u001b[0m \u001b[0maxis\u001b[0m\u001b[1;33m=\u001b[0m\u001b[0maxis\u001b[0m\u001b[1;33m,\u001b[0m \u001b[0mskipna\u001b[0m\u001b[1;33m=\u001b[0m\u001b[0mskipna\u001b[0m\u001b[1;33m,\u001b[0m \u001b[0mnumeric_only\u001b[0m\u001b[1;33m=\u001b[0m\u001b[0mnumeric_only\u001b[0m\u001b[1;33m\u001b[0m\u001b[1;33m\u001b[0m\u001b[0m\n\u001b[0m\u001b[0;32m  11619\u001b[0m         )\n\u001b[0;32m  11620\u001b[0m \u001b[1;33m\u001b[0m\u001b[0m\n",
      "\u001b[1;32mC:\\programs\\Continuum\\anaconda3\\lib\\site-packages\\pandas\\core\\series.py\u001b[0m in \u001b[0;36m_reduce\u001b[1;34m(self, op, name, axis, skipna, numeric_only, filter_type, **kwds)\u001b[0m\n\u001b[0;32m   4085\u001b[0m                 )\n\u001b[0;32m   4086\u001b[0m             \u001b[1;32mwith\u001b[0m \u001b[0mnp\u001b[0m\u001b[1;33m.\u001b[0m\u001b[0merrstate\u001b[0m\u001b[1;33m(\u001b[0m\u001b[0mall\u001b[0m\u001b[1;33m=\u001b[0m\u001b[1;34m\"ignore\"\u001b[0m\u001b[1;33m)\u001b[0m\u001b[1;33m:\u001b[0m\u001b[1;33m\u001b[0m\u001b[1;33m\u001b[0m\u001b[0m\n\u001b[1;32m-> 4087\u001b[1;33m                 \u001b[1;32mreturn\u001b[0m \u001b[0mop\u001b[0m\u001b[1;33m(\u001b[0m\u001b[0mdelegate\u001b[0m\u001b[1;33m,\u001b[0m \u001b[0mskipna\u001b[0m\u001b[1;33m=\u001b[0m\u001b[0mskipna\u001b[0m\u001b[1;33m,\u001b[0m \u001b[1;33m**\u001b[0m\u001b[0mkwds\u001b[0m\u001b[1;33m)\u001b[0m\u001b[1;33m\u001b[0m\u001b[1;33m\u001b[0m\u001b[0m\n\u001b[0m\u001b[0;32m   4088\u001b[0m \u001b[1;33m\u001b[0m\u001b[0m\n\u001b[0;32m   4089\u001b[0m         \u001b[1;31m# TODO(EA) dispatch to Index\u001b[0m\u001b[1;33m\u001b[0m\u001b[1;33m\u001b[0m\u001b[1;33m\u001b[0m\u001b[0m\n",
      "\u001b[1;32mC:\\programs\\Continuum\\anaconda3\\lib\\site-packages\\pandas\\core\\nanops.py\u001b[0m in \u001b[0;36m_f\u001b[1;34m(*args, **kwargs)\u001b[0m\n\u001b[0;32m     68\u001b[0m             \u001b[1;32mtry\u001b[0m\u001b[1;33m:\u001b[0m\u001b[1;33m\u001b[0m\u001b[1;33m\u001b[0m\u001b[0m\n\u001b[0;32m     69\u001b[0m                 \u001b[1;32mwith\u001b[0m \u001b[0mnp\u001b[0m\u001b[1;33m.\u001b[0m\u001b[0merrstate\u001b[0m\u001b[1;33m(\u001b[0m\u001b[0minvalid\u001b[0m\u001b[1;33m=\u001b[0m\u001b[1;34m\"ignore\"\u001b[0m\u001b[1;33m)\u001b[0m\u001b[1;33m:\u001b[0m\u001b[1;33m\u001b[0m\u001b[1;33m\u001b[0m\u001b[0m\n\u001b[1;32m---> 70\u001b[1;33m                     \u001b[1;32mreturn\u001b[0m \u001b[0mf\u001b[0m\u001b[1;33m(\u001b[0m\u001b[1;33m*\u001b[0m\u001b[0margs\u001b[0m\u001b[1;33m,\u001b[0m \u001b[1;33m**\u001b[0m\u001b[0mkwargs\u001b[0m\u001b[1;33m)\u001b[0m\u001b[1;33m\u001b[0m\u001b[1;33m\u001b[0m\u001b[0m\n\u001b[0m\u001b[0;32m     71\u001b[0m             \u001b[1;32mexcept\u001b[0m \u001b[0mValueError\u001b[0m \u001b[1;32mas\u001b[0m \u001b[0me\u001b[0m\u001b[1;33m:\u001b[0m\u001b[1;33m\u001b[0m\u001b[1;33m\u001b[0m\u001b[0m\n\u001b[0;32m     72\u001b[0m                 \u001b[1;31m# we want to transform an object array\u001b[0m\u001b[1;33m\u001b[0m\u001b[1;33m\u001b[0m\u001b[1;33m\u001b[0m\u001b[0m\n",
      "\u001b[1;32mC:\\programs\\Continuum\\anaconda3\\lib\\site-packages\\pandas\\core\\nanops.py\u001b[0m in \u001b[0;36mf\u001b[1;34m(values, axis, skipna, **kwds)\u001b[0m\n\u001b[0;32m    121\u001b[0m             \u001b[1;32mexcept\u001b[0m \u001b[0mException\u001b[0m\u001b[1;33m:\u001b[0m\u001b[1;33m\u001b[0m\u001b[1;33m\u001b[0m\u001b[0m\n\u001b[0;32m    122\u001b[0m                 \u001b[1;32mtry\u001b[0m\u001b[1;33m:\u001b[0m\u001b[1;33m\u001b[0m\u001b[1;33m\u001b[0m\u001b[0m\n\u001b[1;32m--> 123\u001b[1;33m                     \u001b[0mresult\u001b[0m \u001b[1;33m=\u001b[0m \u001b[0malt\u001b[0m\u001b[1;33m(\u001b[0m\u001b[0mvalues\u001b[0m\u001b[1;33m,\u001b[0m \u001b[0maxis\u001b[0m\u001b[1;33m=\u001b[0m\u001b[0maxis\u001b[0m\u001b[1;33m,\u001b[0m \u001b[0mskipna\u001b[0m\u001b[1;33m=\u001b[0m\u001b[0mskipna\u001b[0m\u001b[1;33m,\u001b[0m \u001b[1;33m**\u001b[0m\u001b[0mkwds\u001b[0m\u001b[1;33m)\u001b[0m\u001b[1;33m\u001b[0m\u001b[1;33m\u001b[0m\u001b[0m\n\u001b[0m\u001b[0;32m    124\u001b[0m                 \u001b[1;32mexcept\u001b[0m \u001b[0mValueError\u001b[0m \u001b[1;32mas\u001b[0m \u001b[0me\u001b[0m\u001b[1;33m:\u001b[0m\u001b[1;33m\u001b[0m\u001b[1;33m\u001b[0m\u001b[0m\n\u001b[0;32m    125\u001b[0m                     \u001b[1;31m# we want to transform an object array\u001b[0m\u001b[1;33m\u001b[0m\u001b[1;33m\u001b[0m\u001b[1;33m\u001b[0m\u001b[0m\n",
      "\u001b[1;32mC:\\programs\\Continuum\\anaconda3\\lib\\site-packages\\pandas\\core\\nanops.py\u001b[0m in \u001b[0;36mnanmean\u001b[1;34m(values, axis, skipna, mask)\u001b[0m\n\u001b[0;32m    549\u001b[0m         \u001b[0mdtype_count\u001b[0m \u001b[1;33m=\u001b[0m \u001b[0mdtype\u001b[0m\u001b[1;33m\u001b[0m\u001b[1;33m\u001b[0m\u001b[0m\n\u001b[0;32m    550\u001b[0m     \u001b[0mcount\u001b[0m \u001b[1;33m=\u001b[0m \u001b[0m_get_counts\u001b[0m\u001b[1;33m(\u001b[0m\u001b[0mvalues\u001b[0m\u001b[1;33m.\u001b[0m\u001b[0mshape\u001b[0m\u001b[1;33m,\u001b[0m \u001b[0mmask\u001b[0m\u001b[1;33m,\u001b[0m \u001b[0maxis\u001b[0m\u001b[1;33m,\u001b[0m \u001b[0mdtype\u001b[0m\u001b[1;33m=\u001b[0m\u001b[0mdtype_count\u001b[0m\u001b[1;33m)\u001b[0m\u001b[1;33m\u001b[0m\u001b[1;33m\u001b[0m\u001b[0m\n\u001b[1;32m--> 551\u001b[1;33m     \u001b[0mthe_sum\u001b[0m \u001b[1;33m=\u001b[0m \u001b[0m_ensure_numeric\u001b[0m\u001b[1;33m(\u001b[0m\u001b[0mvalues\u001b[0m\u001b[1;33m.\u001b[0m\u001b[0msum\u001b[0m\u001b[1;33m(\u001b[0m\u001b[0maxis\u001b[0m\u001b[1;33m,\u001b[0m \u001b[0mdtype\u001b[0m\u001b[1;33m=\u001b[0m\u001b[0mdtype_sum\u001b[0m\u001b[1;33m)\u001b[0m\u001b[1;33m)\u001b[0m\u001b[1;33m\u001b[0m\u001b[1;33m\u001b[0m\u001b[0m\n\u001b[0m\u001b[0;32m    552\u001b[0m \u001b[1;33m\u001b[0m\u001b[0m\n\u001b[0;32m    553\u001b[0m     \u001b[1;32mif\u001b[0m \u001b[0maxis\u001b[0m \u001b[1;32mis\u001b[0m \u001b[1;32mnot\u001b[0m \u001b[1;32mNone\u001b[0m \u001b[1;32mand\u001b[0m \u001b[0mgetattr\u001b[0m\u001b[1;33m(\u001b[0m\u001b[0mthe_sum\u001b[0m\u001b[1;33m,\u001b[0m \u001b[1;34m\"ndim\"\u001b[0m\u001b[1;33m,\u001b[0m \u001b[1;32mFalse\u001b[0m\u001b[1;33m)\u001b[0m\u001b[1;33m:\u001b[0m\u001b[1;33m\u001b[0m\u001b[1;33m\u001b[0m\u001b[0m\n",
      "\u001b[1;32mC:\\programs\\Continuum\\anaconda3\\lib\\site-packages\\pandas\\core\\nanops.py\u001b[0m in \u001b[0;36m_ensure_numeric\u001b[1;34m(x)\u001b[0m\n\u001b[0;32m   1308\u001b[0m             \u001b[1;32mexcept\u001b[0m \u001b[0mException\u001b[0m\u001b[1;33m:\u001b[0m\u001b[1;33m\u001b[0m\u001b[1;33m\u001b[0m\u001b[0m\n\u001b[0;32m   1309\u001b[0m                 raise TypeError(\n\u001b[1;32m-> 1310\u001b[1;33m                     \u001b[1;34m\"Could not convert {value!s} to numeric\"\u001b[0m\u001b[1;33m.\u001b[0m\u001b[0mformat\u001b[0m\u001b[1;33m(\u001b[0m\u001b[0mvalue\u001b[0m\u001b[1;33m=\u001b[0m\u001b[0mx\u001b[0m\u001b[1;33m)\u001b[0m\u001b[1;33m\u001b[0m\u001b[1;33m\u001b[0m\u001b[0m\n\u001b[0m\u001b[0;32m   1311\u001b[0m                 )\n\u001b[0;32m   1312\u001b[0m     \u001b[1;32mreturn\u001b[0m \u001b[0mx\u001b[0m\u001b[1;33m\u001b[0m\u001b[1;33m\u001b[0m\u001b[0m\n",
      "\u001b[1;31mTypeError\u001b[0m: Could not convert 988888Extremely happy98884889Extremely happy99989Extremely happy9Extremely happy96Extremely happy899889998876Extremely happy3Extremely happy8759Extremely happyExtremely happy14797Extremely happy938969898888Extremely happyExtremely happy8Extremely happy7899Extremely happy9Extremely happy8Extremely happy8889Extremely happy3989989Extremely happy98997889885Extremely happy89297879Extremely happy989889259Extremely happy99Extremely happy898Extremely happy988Extremely happy789Extremely happy99Extremely happy9987Extremely happyExtremely happy8979998898Extremely happy5988999Extremely happy89Extremely happy7788Extremely happy96958878857989Extremely happy9Extremely happy8Extremely happy88898Extremely happy7899Extremely happyExtremely happy996988598Extremely happy9978Extremely happy98597979Extremely happy958987Extremely happy989299767999899888Extremely happyExtremely happy8Extremely happyExtremely happy9999989Extremely happy587999969879Extremely happy998995879598Extremely happy988879888Extremely happy7759Extremely happy9Extremely happy8788Extremely happy1Extremely happy9Extremely happy86982Extremely happy9879976Extremely happy784Extremely happy59Extremely happy9Extremely happy88Extremely happyExtremely happy8987Extremely happy99Extremely happy89898Extremely happy7Extremely happy999889888628Extremely happy87867Extremely happy989Extremely happy96788866968Extremely happy8Extremely happy6Extremely happyExtremely happy8Extremely happyExtremely happy88979Extremely happy65978Extremely happyExtremely happyExtremely happyExtremely happy889Extremely happy97Extremely happy997Extremely happyExtremely happyExtremely happyExtremely happyExtremely happy989Extremely happy889Extremely happy81878Extremely happy8979797878878888889Extremely happyExtremely happy988Extremely happy59Extremely happy997Extremely happy7Extremely happy86417996688889Extremely happy887Extremely happy9979Extremely happy99898Extremely happyExtremely happy8Extremely happyExtremely happy97675967Extremely happy699Extremely happy7876988878Extremely happy9Extremely happy9699Extremely happyExtremely happy888993Extremely happy7Extremely happyExtremely happy9979Extremely happyExtremely happy8Extremely happy89956Extremely happy999927Extremely happy887Extremely happy99998Extremely happy87898Extremely happyExtremely happy9Extremely happy8Extremely happy8993989883795879887Extremely happy888Extremely happy8989878Extremely happy988Extremely happy7998Extremely happy978879Extremely happy86Extremely happy989988889989Extremely happy98886988Extremely happy79Extremely happy7Extremely happy959888789988Extremely happyExtremely happyExtremely happy6799Extremely happyExtremely happy986Extremely happy779Extremely happy897798Extremely happy888Extremely happy68Extremely happy976Extremely happyExtremely happy89899968984889997988999Extremely happy889958Extremely happy879939778Extremely happy9999838779Extremely happyExtremely happy99Extremely happy8Extremely happyExtremely happy879Extremely happy39899Extremely happy789Extremely happy98Extremely happy9768Extremely happy8889Extremely happy89879998988898Extremely happy99995Extremely happy989989889Extremely happy68Extremely happy77898Extremely happy9899885Extremely happy879899879Extremely happy8Extremely happyExtremely happy98988Extremely happyExtremely happy5987Extremely happyExtremely happy889Extremely happy8Extremely happy8388Extremely happy999398987Extremely happy89878788789Extremely happy788987Extremely happy9789787Extremely happy986Extremely happyExtremely happy962988889Extremely happy77889Extremely happy799867Extremely happy9Extremely happy9979798Extremely happy9Extremely happy858Extremely happy89888893848Extremely happy999Extremely happy78999Extremely happy968998888Extremely happy86876799Extremely happy96Extremely happyExtremely happy8988816639988948829Extremely happy7Extremely happy79Extremely happy5993Extremely happy8989Extremely happyExtremely happy959975Extremely happy86Extremely happy8799967Extremely happy999889878Extremely unhappy6Extremely happy88Extremely happy9Extremely happy78Extremely happy9879Extremely happy6889795575958998458Extremely happy7Extremely happy9Extremely happy89Extremely happy98Extremely happy8989879988Extremely happy88789989795985838587979799898Extremely happy29Extremely happy887899Extremely happy7889Extremely happy58797Extremely happy989788688Extremely happyExtremely happy89Extremely happy98Extremely happy8Extremely happy88879Extremely happy8Extremely happy8876Extremely happy8Extremely happy89788884898Extremely happy959Extremely happy98789Extremely happy898898899Extremely happy988Extremely happyExtremely happy9289778Extremely happy98875Extremely happy889Extremely happy98797879Extremely happy5Extremely happy89Extremely happy8869889898898Extremely happy698798978997997Extremely happy98Extremely happy646978998989Extremely happy9Extremely happy9Extremely happy88899878897779997Extremely happy98878Extremely happy788Extremely happy9Extremely happy8Extremely happy59Extremely happy98Extremely happy9Extremely happy7887798Extremely happy97Extremely happy78Extremely happy8688827768Extremely happy98879Extremely happy68Extremely happy959589998Extremely happy97Extremely happyExtremely happyExtremely happyExtremely happy9Extremely happy8988798849Extremely happy89899988Extremely happy8999Extremely happy3897Extremely happyExtremely happy49Extremely happyExtremely happy998988877Extremely happyExtremely happy999798898Extremely happy to numeric"
     ]
    },
    {
     "data": {
      "image/png": "[encoded data removed]",
      "text/plain": [
       "<Figure size 1080x720 with 1 Axes>"
      ]
     },
     "metadata": {},
     "output_type": "display_data"
    }
   ],
   "source": [
    "plt.figure(figsize=(15,10)) #sætter størrelsen på figuren\n",
    "sns.regplot(x = 'yrbrn', y = 'happy', data = ess) #scatterplot af højde og vægt med fitted regressionslinje"
   ]
  },
  {
   "cell_type": "markdown",
   "metadata": {},
   "source": [
    "Ovenstående giver dog fejl - hvorfor?"
   ]
  },
  {
   "cell_type": "markdown",
   "metadata": {},
   "source": [
    "## Kategoriske varialbe i python\n",
    "\n",
    "Lad os se nærmere på variablen `happy`. Tællinger for de enkelte værdier kan fås med `.value_counts()`, hvilket samtidig giver os overblik over værdierne."
   ]
  },
  {
   "cell_type": "code",
   "execution_count": 105,
   "metadata": {},
   "outputs": [
    {
     "data": {
      "text/plain": [
       "8                    457\n",
       "9                    446\n",
       "Extremely happy      278\n",
       "7                    170\n",
       "6                     57\n",
       "5                     43\n",
       "3                     16\n",
       "4                     12\n",
       "2                     11\n",
       "1                      5\n",
       "Extremely unhappy      1\n",
       "Name: happy, dtype: int64"
      ]
     },
     "execution_count": 105,
     "metadata": {},
     "output_type": "execute_result"
    }
   ],
   "source": [
    "ess['happy'].value_counts()"
   ]
  },
  {
   "cell_type": "code",
   "execution_count": 106,
   "metadata": {},
   "outputs": [
    {
     "data": {
      "text/plain": [
       "dtype('O')"
      ]
     },
     "execution_count": 106,
     "metadata": {},
     "output_type": "execute_result"
    }
   ],
   "source": [
    "ess['happy'].dtypes"
   ]
  },
  {
   "cell_type": "markdown",
   "metadata": {},
   "source": [
    "Som det kan ses, indeholder variablen både numeriske og tekstuelle værdier. Typen er et \"objekt\", som hverken er tekst eller tal. \n",
    "\n",
    "Er ens variable indlæst som typen \"objekt\", bør man forholde sig til dem og ændrer dem på en af følgende måder:\n",
    "- Konverter til tal: `pd.to_numeric(data)`\n",
    "- Konverter til kategorisk: `.astype('category')`"
   ]
  },
  {
   "cell_type": "markdown",
   "metadata": {},
   "source": [
    "Lad os først prøve at konvertere happy til kateogrisk."
   ]
  },
  {
   "cell_type": "code",
   "execution_count": 109,
   "metadata": {},
   "outputs": [
    {
     "data": {
      "text/plain": [
       "8                    457\n",
       "9                    446\n",
       "Extremely happy      278\n",
       "7                    170\n",
       "6                     57\n",
       "5                     43\n",
       "3                     16\n",
       "4                     12\n",
       "2                     11\n",
       "1                      5\n",
       "Extremely unhappy      1\n",
       "Name: happycat, dtype: int64"
      ]
     },
     "execution_count": 109,
     "metadata": {},
     "output_type": "execute_result"
    }
   ],
   "source": [
    "ess['happycat'] = ess['happy'].astype('category')\n",
    "ess['happycat'].value_counts()"
   ]
  },
  {
   "cell_type": "code",
   "execution_count": 110,
   "metadata": {},
   "outputs": [
    {
     "data": {
      "text/plain": [
       "CategoricalDtype(categories=['1', '2', '3', '4', '5', '6', '7', '8', '9',\n",
       "                  'Extremely happy', 'Extremely unhappy'],\n",
       "                 ordered=False)"
      ]
     },
     "execution_count": 110,
     "metadata": {},
     "output_type": "execute_result"
    }
   ],
   "source": [
    "ess['happycat'].dtypes"
   ]
  },
  {
   "cell_type": "markdown",
   "metadata": {},
   "source": [
    "`value_counts()` giver præcis det samme output efter konvertering, men vi kan nu se, at typen er anderledes (`CategoricalDtype`). Bemærk at `ordered` angiver, hvorvidt variabel skal betragtes nominalt eller ordinalt."
   ]
  },
  {
   "cell_type": "markdown",
   "metadata": {},
   "source": [
    "### Kategorisk og numerisk i python\n",
    "\n",
    "Når man arbejder med kategoriske data i python, skal man tage aktiv beslutning om, hvordan variablen skal behandles. I modsætning til andre statistikprogrammer, har kategorier i python (pandas) ikke en underliggende numerisk værdi.\n",
    "\n",
    "Vi kan godt få de underliggende koder, men det er ikke nogen, som vi kan refere til."
   ]
  },
  {
   "cell_type": "code",
   "execution_count": 111,
   "metadata": {},
   "outputs": [
    {
     "data": {
      "text/plain": [
       "array([ 8,  7,  9,  3,  5,  6,  2,  4,  0,  1, -1, 10], dtype=int64)"
      ]
     },
     "execution_count": 111,
     "metadata": {},
     "output_type": "execute_result"
    }
   ],
   "source": [
    "ess['happycat'].cat.codes.unique()"
   ]
  },
  {
   "cell_type": "code",
   "execution_count": 117,
   "metadata": {},
   "outputs": [
    {
     "data": {
      "text/plain": [
       "False"
      ]
     },
     "execution_count": 117,
     "metadata": {},
     "output_type": "execute_result"
    }
   ],
   "source": [
    "any(ess['happycat'] == 10)"
   ]
  },
  {
   "cell_type": "markdown",
   "metadata": {},
   "source": [
    "Bemærk også at kategorier både kan kodes som tal og tekst. I dette tilfælde er kategorierne kodet som tekst:"
   ]
  },
  {
   "cell_type": "code",
   "execution_count": 118,
   "metadata": {},
   "outputs": [
    {
     "data": {
      "text/plain": [
       "False"
      ]
     },
     "execution_count": 118,
     "metadata": {},
     "output_type": "execute_result"
    }
   ],
   "source": [
    "any(ess['happycat'] == 1)"
   ]
  },
  {
   "cell_type": "code",
   "execution_count": 119,
   "metadata": {},
   "outputs": [
    {
     "data": {
      "text/plain": [
       "True"
      ]
     },
     "execution_count": 119,
     "metadata": {},
     "output_type": "execute_result"
    }
   ],
   "source": [
    "any(ess['happycat'] == '1')"
   ]
  },
  {
   "cell_type": "markdown",
   "metadata": {},
   "source": [
    "Det betyder, hvis man koder variable som kategoriske, skal de kun behandles som kategorisk - enten nominalt eller ordinalt.\n",
    "\n",
    "Skal variablen behandles som interval, skal variablen derfor kodes om til numerisk."
   ]
  },
  {
   "cell_type": "markdown",
   "metadata": {},
   "source": [
    "### Nominalt og ordinale variable i python\n",
    "\n",
    "Inden vi ser på den numeriske konvertering, så lad os først kigge på, hvordan vi adskiller mellem nominale og ordinale i python.\n",
    "\n",
    "Begge variabeltyper kodes som kategorisk, men forskellen ligger i, om variablen kodes som \"ordered\" eller ej.\n",
    "- `ordered = False`: Nominal\n",
    "- `ordered = True`: Ordinal\n",
    "\n",
    "Lad os som eksempel kigge på 'alcfreq' variablen:"
   ]
  },
  {
   "cell_type": "code",
   "execution_count": 120,
   "metadata": {},
   "outputs": [
    {
     "data": {
      "text/plain": [
       "Several times a week      364\n",
       "Once a week               309\n",
       "2-3 times a month         264\n",
       "Less than once a month    197\n",
       "Every day                 133\n",
       "Once a month              129\n",
       "Never                     101\n",
       "Name: alcfreq, dtype: int64"
      ]
     },
     "execution_count": 120,
     "metadata": {},
     "output_type": "execute_result"
    }
   ],
   "source": [
    "ess['alcfreq'].value_counts()"
   ]
  },
  {
   "cell_type": "code",
   "execution_count": 121,
   "metadata": {},
   "outputs": [
    {
     "data": {
      "text/plain": [
       "dtype('O')"
      ]
     },
     "execution_count": 121,
     "metadata": {},
     "output_type": "execute_result"
    }
   ],
   "source": [
    "ess['alcfreq'].dtypes"
   ]
  },
  {
   "cell_type": "markdown",
   "metadata": {},
   "source": [
    "Ligesom 'happy' er 'alcfreq' indlæst som objekt-type - Det skal vi gøre noget ved!\n",
    "\n",
    "Den simple løsning er blot at tvinge den til kategorisk, men specificerer ikke nærmere, bliver den lavet til nominalt, hvilket ikke stemmer med variablen (der er tydeligvis rangorden i værdierne)."
   ]
  },
  {
   "cell_type": "code",
   "execution_count": 122,
   "metadata": {},
   "outputs": [
    {
     "data": {
      "text/plain": [
       "0          2-3 times a month\n",
       "1       Several times a week\n",
       "2                  Every day\n",
       "3       Several times a week\n",
       "4                  Every day\n",
       "                ...         \n",
       "1497    Several times a week\n",
       "1498       2-3 times a month\n",
       "1499             Once a week\n",
       "1500             Once a week\n",
       "1501       2-3 times a month\n",
       "Name: alcfreq, Length: 1502, dtype: category\n",
       "Categories (7, object): [2-3 times a month, Every day, Less than once a month, Never, Once a month, Once a week, Several times a week]"
      ]
     },
     "execution_count": 122,
     "metadata": {},
     "output_type": "execute_result"
    }
   ],
   "source": [
    "ess['alcfreq'].astype('category') #denne kommando returnerer variablen som nominal"
   ]
  },
  {
   "cell_type": "markdown",
   "metadata": {},
   "source": [
    "Måden vi løser dette, er ved først at lave vores eget \"kategorisæt\" eller kategoritype, som vi derefter sætter på variablen.\n",
    "\n",
    "På vores egen type kan vi specificere, at værdier skal behandles ordinalt (`ordered = True`). De sættes i rangorden efter den rækkefølge, som de skrives ind."
   ]
  },
  {
   "cell_type": "code",
   "execution_count": 193,
   "metadata": {},
   "outputs": [],
   "source": [
    "from pandas.api.types import CategoricalDtype\n",
    "\n",
    "alc_cats = CategoricalDtype(categories = ['Never', 'Less than once a month', 'Once a month', '2-3 times a month', \n",
    "                                          'Once a week', 'Several times a week', 'Every day'], ordered = True)\n",
    "\n",
    "  \n",
    "ess['alcfreq'] = ess['alcfreq'].astype(alc_cats)"
   ]
  },
  {
   "cell_type": "code",
   "execution_count": 212,
   "metadata": {},
   "outputs": [],
   "source": [
    "ess['drink_weekly'] = ess['alcfreq'] >= 'Once a week'"
   ]
  },
  {
   "cell_type": "code",
   "execution_count": 215,
   "metadata": {},
   "outputs": [
    {
     "data": {
      "text/html": [
       "<div>\n",
       "<style scoped>\n",
       "    .dataframe tbody tr th:only-of-type {\n",
       "        vertical-align: middle;\n",
       "    }\n",
       "\n",
       "    .dataframe tbody tr th {\n",
       "        vertical-align: top;\n",
       "    }\n",
       "\n",
       "    .dataframe thead th {\n",
       "        text-align: right;\n",
       "    }\n",
       "</style>\n",
       "<table border=\"1\" class=\"dataframe\">\n",
       "  <thead>\n",
       "    <tr style=\"text-align: right;\">\n",
       "      <th></th>\n",
       "      <th>alcfreq</th>\n",
       "      <th>drink_weekly</th>\n",
       "    </tr>\n",
       "  </thead>\n",
       "  <tbody>\n",
       "    <tr>\n",
       "      <td>0</td>\n",
       "      <td>2-3 times a month</td>\n",
       "      <td>False</td>\n",
       "    </tr>\n",
       "    <tr>\n",
       "      <td>1</td>\n",
       "      <td>Several times a week</td>\n",
       "      <td>True</td>\n",
       "    </tr>\n",
       "    <tr>\n",
       "      <td>2</td>\n",
       "      <td>Every day</td>\n",
       "      <td>True</td>\n",
       "    </tr>\n",
       "    <tr>\n",
       "      <td>3</td>\n",
       "      <td>Several times a week</td>\n",
       "      <td>True</td>\n",
       "    </tr>\n",
       "    <tr>\n",
       "      <td>4</td>\n",
       "      <td>Every day</td>\n",
       "      <td>True</td>\n",
       "    </tr>\n",
       "    <tr>\n",
       "      <td>5</td>\n",
       "      <td>Several times a week</td>\n",
       "      <td>True</td>\n",
       "    </tr>\n",
       "    <tr>\n",
       "      <td>6</td>\n",
       "      <td>Once a week</td>\n",
       "      <td>True</td>\n",
       "    </tr>\n",
       "    <tr>\n",
       "      <td>7</td>\n",
       "      <td>Once a week</td>\n",
       "      <td>True</td>\n",
       "    </tr>\n",
       "    <tr>\n",
       "      <td>8</td>\n",
       "      <td>2-3 times a month</td>\n",
       "      <td>False</td>\n",
       "    </tr>\n",
       "    <tr>\n",
       "      <td>9</td>\n",
       "      <td>Once a week</td>\n",
       "      <td>True</td>\n",
       "    </tr>\n",
       "    <tr>\n",
       "      <td>10</td>\n",
       "      <td>Every day</td>\n",
       "      <td>True</td>\n",
       "    </tr>\n",
       "  </tbody>\n",
       "</table>\n",
       "</div>"
      ],
      "text/plain": [
       "                 alcfreq  drink_weekly\n",
       "0      2-3 times a month         False\n",
       "1   Several times a week          True\n",
       "2              Every day          True\n",
       "3   Several times a week          True\n",
       "4              Every day          True\n",
       "5   Several times a week          True\n",
       "6            Once a week          True\n",
       "7            Once a week          True\n",
       "8      2-3 times a month         False\n",
       "9            Once a week          True\n",
       "10             Every day          True"
      ]
     },
     "execution_count": 215,
     "metadata": {},
     "output_type": "execute_result"
    }
   ],
   "source": [
    "ess.loc[0:10, ['alcfreq', 'drink_weekly']]"
   ]
  },
  {
   "cell_type": "markdown",
   "metadata": {},
   "source": [
    "## [kategorisk data i python]"
   ]
  },
  {
   "cell_type": "markdown",
   "metadata": {},
   "source": [
    "## [øvelse: fix kategorisk og kør igen]"
   ]
  },
  {
   "cell_type": "markdown",
   "metadata": {},
   "source": [
    "## [dan kategoriske variable og brug af crosstab]"
   ]
  },
  {
   "cell_type": "markdown",
   "metadata": {},
   "source": [
    "## [øvelse: kategorisk variabel med brug af cut + crosstab]"
   ]
  },
  {
   "cell_type": "markdown",
   "metadata": {},
   "source": [
    "## [tilføj data - hvordan?]"
   ]
  },
  {
   "cell_type": "markdown",
   "metadata": {},
   "source": [
    "## [øvelse: tilføj data, fix kategorisk variabel, omdan kategorisk variabel til dummier, kør model]"
   ]
  },
  {
   "cell_type": "code",
   "execution_count": 4,
   "metadata": {},
   "outputs": [],
   "source": [
    "money = pd.Series({'Lars': 30000, 'Mads': 40000, 'Kim':35000})\n",
    "age = pd.Series({'Lars': 23, 'Mads': 30, 'Kim': 37})\n",
    "data = pd.DataFrame({'money': money, 'age': age})"
   ]
  },
  {
   "cell_type": "code",
   "execution_count": 11,
   "metadata": {},
   "outputs": [
    {
     "data": {
      "text/plain": [
       "Lars  money    30000\n",
       "      age         23\n",
       "Mads  money    40000\n",
       "      age         30\n",
       "Kim   money    35000\n",
       "      age         37\n",
       "dtype: int64"
      ]
     },
     "execution_count": 11,
     "metadata": {},
     "output_type": "execute_result"
    }
   ],
   "source": [
    "data.stack()"
   ]
  },
  {
   "cell_type": "code",
   "execution_count": 9,
   "metadata": {},
   "outputs": [
    {
     "data": {
      "text/plain": [
       "money    40000\n",
       "age         30\n",
       "Name: Mads, dtype: int64"
      ]
     },
     "execution_count": 9,
     "metadata": {},
     "output_type": "execute_result"
    }
   ],
   "source": [
    "data.iloc[1]"
   ]
  },
  {
   "cell_type": "code",
   "execution_count": 141,
   "metadata": {},
   "outputs": [],
   "source": [
    "cats = pd.Series([\"big cat\", \"small cat\", \"medium cat\", \"stupid cat\"])"
   ]
  },
  {
   "cell_type": "code",
   "execution_count": 143,
   "metadata": {},
   "outputs": [
    {
     "data": {
      "text/html": [
       "<div>\n",
       "<style scoped>\n",
       "    .dataframe tbody tr th:only-of-type {\n",
       "        vertical-align: middle;\n",
       "    }\n",
       "\n",
       "    .dataframe tbody tr th {\n",
       "        vertical-align: top;\n",
       "    }\n",
       "\n",
       "    .dataframe thead th {\n",
       "        text-align: right;\n",
       "    }\n",
       "</style>\n",
       "<table border=\"1\" class=\"dataframe\">\n",
       "  <thead>\n",
       "    <tr style=\"text-align: right;\">\n",
       "      <th></th>\n",
       "      <th>big cat</th>\n",
       "      <th>medium cat</th>\n",
       "      <th>small cat</th>\n",
       "      <th>stupid cat</th>\n",
       "    </tr>\n",
       "  </thead>\n",
       "  <tbody>\n",
       "    <tr>\n",
       "      <th>0</th>\n",
       "      <td>1</td>\n",
       "      <td>0</td>\n",
       "      <td>0</td>\n",
       "      <td>0</td>\n",
       "    </tr>\n",
       "    <tr>\n",
       "      <th>1</th>\n",
       "      <td>0</td>\n",
       "      <td>0</td>\n",
       "      <td>1</td>\n",
       "      <td>0</td>\n",
       "    </tr>\n",
       "    <tr>\n",
       "      <th>2</th>\n",
       "      <td>0</td>\n",
       "      <td>1</td>\n",
       "      <td>0</td>\n",
       "      <td>0</td>\n",
       "    </tr>\n",
       "    <tr>\n",
       "      <th>3</th>\n",
       "      <td>0</td>\n",
       "      <td>0</td>\n",
       "      <td>0</td>\n",
       "      <td>1</td>\n",
       "    </tr>\n",
       "  </tbody>\n",
       "</table>\n",
       "</div>"
      ],
      "text/plain": [
       "   big cat  medium cat  small cat  stupid cat\n",
       "0        1           0          0           0\n",
       "1        0           0          1           0\n",
       "2        0           1          0           0\n",
       "3        0           0          0           1"
      ]
     },
     "execution_count": 143,
     "metadata": {},
     "output_type": "execute_result"
    }
   ],
   "source": [
    "cats.str.get_dummies()\n",
    "#cat_df_flights_onehot = pd.get_dummies(cat_df_flights_onehot, columns=['carrier'], prefix = ['carrier'])"
   ]
  },
  {
   "cell_type": "code",
   "execution_count": 32,
   "metadata": {},
   "outputs": [],
   "source": [
    "ess = pd.read_csv('https://github.com/CALDISS-AAU/workshop_python-intro/raw/master/data/ESS2014DK_subset.csv')"
   ]
  },
  {
   "cell_type": "code",
   "execution_count": 33,
   "metadata": {},
   "outputs": [
    {
     "data": {
      "text/html": [
       "<div>\n",
       "<style scoped>\n",
       "    .dataframe tbody tr th:only-of-type {\n",
       "        vertical-align: middle;\n",
       "    }\n",
       "\n",
       "    .dataframe tbody tr th {\n",
       "        vertical-align: top;\n",
       "    }\n",
       "\n",
       "    .dataframe thead th {\n",
       "        text-align: right;\n",
       "    }\n",
       "</style>\n",
       "<table border=\"1\" class=\"dataframe\">\n",
       "  <thead>\n",
       "    <tr style=\"text-align: right;\">\n",
       "      <th></th>\n",
       "      <th>idno</th>\n",
       "      <th>ppltrst</th>\n",
       "      <th>happy</th>\n",
       "      <th>cgtsday</th>\n",
       "      <th>alcfreq</th>\n",
       "      <th>height</th>\n",
       "      <th>weight</th>\n",
       "      <th>gndr</th>\n",
       "      <th>yrbrn</th>\n",
       "    </tr>\n",
       "  </thead>\n",
       "  <tbody>\n",
       "    <tr>\n",
       "      <th>0</th>\n",
       "      <td>921018</td>\n",
       "      <td>6</td>\n",
       "      <td>9</td>\n",
       "      <td>10.0</td>\n",
       "      <td>2-3 times a month</td>\n",
       "      <td>178.0</td>\n",
       "      <td>64.0</td>\n",
       "      <td>Male</td>\n",
       "      <td>1990.0</td>\n",
       "    </tr>\n",
       "    <tr>\n",
       "      <th>1</th>\n",
       "      <td>921026</td>\n",
       "      <td>8</td>\n",
       "      <td>8</td>\n",
       "      <td>NaN</td>\n",
       "      <td>Several times a week</td>\n",
       "      <td>172.0</td>\n",
       "      <td>64.0</td>\n",
       "      <td>Female</td>\n",
       "      <td>1948.0</td>\n",
       "    </tr>\n",
       "    <tr>\n",
       "      <th>2</th>\n",
       "      <td>921034</td>\n",
       "      <td>8</td>\n",
       "      <td>8</td>\n",
       "      <td>NaN</td>\n",
       "      <td>Every day</td>\n",
       "      <td>176.0</td>\n",
       "      <td>87.0</td>\n",
       "      <td>Male</td>\n",
       "      <td>1957.0</td>\n",
       "    </tr>\n",
       "    <tr>\n",
       "      <th>3</th>\n",
       "      <td>921076</td>\n",
       "      <td>8</td>\n",
       "      <td>8</td>\n",
       "      <td>NaN</td>\n",
       "      <td>Several times a week</td>\n",
       "      <td>162.0</td>\n",
       "      <td>70.0</td>\n",
       "      <td>Female</td>\n",
       "      <td>1958.0</td>\n",
       "    </tr>\n",
       "    <tr>\n",
       "      <th>4</th>\n",
       "      <td>921084</td>\n",
       "      <td>5</td>\n",
       "      <td>8</td>\n",
       "      <td>NaN</td>\n",
       "      <td>Every day</td>\n",
       "      <td>175.0</td>\n",
       "      <td>80.0</td>\n",
       "      <td>Male</td>\n",
       "      <td>1936.0</td>\n",
       "    </tr>\n",
       "  </tbody>\n",
       "</table>\n",
       "</div>"
      ],
      "text/plain": [
       "     idno ppltrst happy  cgtsday               alcfreq  height  weight  \\\n",
       "0  921018       6     9     10.0     2-3 times a month   178.0    64.0   \n",
       "1  921026       8     8      NaN  Several times a week   172.0    64.0   \n",
       "2  921034       8     8      NaN             Every day   176.0    87.0   \n",
       "3  921076       8     8      NaN  Several times a week   162.0    70.0   \n",
       "4  921084       5     8      NaN             Every day   175.0    80.0   \n",
       "\n",
       "     gndr   yrbrn  \n",
       "0    Male  1990.0  \n",
       "1  Female  1948.0  \n",
       "2    Male  1957.0  \n",
       "3  Female  1958.0  \n",
       "4    Male  1936.0  "
      ]
     },
     "execution_count": 33,
     "metadata": {},
     "output_type": "execute_result"
    }
   ],
   "source": [
    "ess.head()"
   ]
  },
  {
   "cell_type": "code",
   "execution_count": 34,
   "metadata": {},
   "outputs": [
    {
     "data": {
      "text/plain": [
       "idno         int64\n",
       "ppltrst     object\n",
       "happy       object\n",
       "cgtsday    float64\n",
       "alcfreq     object\n",
       "height     float64\n",
       "weight     float64\n",
       "gndr        object\n",
       "yrbrn      float64\n",
       "dtype: object"
      ]
     },
     "execution_count": 34,
     "metadata": {},
     "output_type": "execute_result"
    }
   ],
   "source": [
    "ess.dtypes"
   ]
  },
  {
   "cell_type": "code",
   "execution_count": 35,
   "metadata": {},
   "outputs": [
    {
     "data": {
      "text/plain": [
       "8                    457\n",
       "9                    446\n",
       "Extremely happy      278\n",
       "7                    170\n",
       "6                     57\n",
       "5                     43\n",
       "3                     16\n",
       "4                     12\n",
       "2                     11\n",
       "1                      5\n",
       "Extremely unhappy      1\n",
       "Name: happy, dtype: int64"
      ]
     },
     "execution_count": 35,
     "metadata": {},
     "output_type": "execute_result"
    }
   ],
   "source": [
    "ess['happy'] = ess['happy'].astype(\"category\")\n",
    "ess['happy'].value_counts()"
   ]
  },
  {
   "cell_type": "code",
   "execution_count": 47,
   "metadata": {},
   "outputs": [
    {
     "data": {
      "text/plain": [
       "count     1496\n",
       "unique      11\n",
       "top          8\n",
       "freq       457\n",
       "Name: happy, dtype: object"
      ]
     },
     "execution_count": 47,
     "metadata": {},
     "output_type": "execute_result"
    }
   ],
   "source": [
    "ess['happy'].describe()"
   ]
  },
  {
   "cell_type": "code",
   "execution_count": 59,
   "metadata": {},
   "outputs": [
    {
     "data": {
      "text/plain": [
       "Index(['1', '2', '3', '4', '5', '6', '7', '8', '9', 'Extremely happy',\n",
       "       'Extremely unhappy'],\n",
       "      dtype='object')"
      ]
     },
     "execution_count": 59,
     "metadata": {},
     "output_type": "execute_result"
    }
   ],
   "source": [
    "ess['happy'].cat.categories"
   ]
  },
  {
   "cell_type": "code",
   "execution_count": 61,
   "metadata": {},
   "outputs": [
    {
     "data": {
      "text/plain": [
       "array([ 8,  7,  9,  3,  5,  6,  2,  4,  0,  1, -1, 10])"
      ]
     },
     "execution_count": 61,
     "metadata": {},
     "output_type": "execute_result"
    }
   ],
   "source": [
    "ess['happy'].cat.codes.unique()"
   ]
  },
  {
   "cell_type": "code",
   "execution_count": 66,
   "metadata": {},
   "outputs": [
    {
     "data": {
      "text/html": [
       "<div>\n",
       "<style scoped>\n",
       "    .dataframe tbody tr th:only-of-type {\n",
       "        vertical-align: middle;\n",
       "    }\n",
       "\n",
       "    .dataframe tbody tr th {\n",
       "        vertical-align: top;\n",
       "    }\n",
       "\n",
       "    .dataframe thead th {\n",
       "        text-align: right;\n",
       "    }\n",
       "</style>\n",
       "<table border=\"1\" class=\"dataframe\">\n",
       "  <thead>\n",
       "    <tr style=\"text-align: right;\">\n",
       "      <th></th>\n",
       "      <th>happy</th>\n",
       "      <th>happy_codes</th>\n",
       "    </tr>\n",
       "  </thead>\n",
       "  <tbody>\n",
       "    <tr>\n",
       "      <th>1091</th>\n",
       "      <td>Extremely unhappy</td>\n",
       "      <td>10</td>\n",
       "    </tr>\n",
       "  </tbody>\n",
       "</table>\n",
       "</div>"
      ],
      "text/plain": [
       "                  happy  happy_codes\n",
       "1091  Extremely unhappy           10"
      ]
     },
     "execution_count": 66,
     "metadata": {},
     "output_type": "execute_result"
    }
   ],
   "source": [
    "ess['happy_codes'] = ess['happy'].cat.codes\n",
    "ess.loc[ess['happy'] == \"Extremely unhappy\", ['happy', 'happy_codes']]"
   ]
  },
  {
   "cell_type": "code",
   "execution_count": 80,
   "metadata": {},
   "outputs": [
    {
     "data": {
      "text/html": [
       "<div>\n",
       "<style scoped>\n",
       "    .dataframe tbody tr th:only-of-type {\n",
       "        vertical-align: middle;\n",
       "    }\n",
       "\n",
       "    .dataframe tbody tr th {\n",
       "        vertical-align: top;\n",
       "    }\n",
       "\n",
       "    .dataframe thead th {\n",
       "        text-align: right;\n",
       "    }\n",
       "</style>\n",
       "<table border=\"1\" class=\"dataframe\">\n",
       "  <thead>\n",
       "    <tr style=\"text-align: right;\">\n",
       "      <th></th>\n",
       "      <th>idno</th>\n",
       "      <th>ppltrst</th>\n",
       "      <th>happy</th>\n",
       "      <th>cgtsday</th>\n",
       "      <th>alcfreq</th>\n",
       "      <th>height</th>\n",
       "      <th>weight</th>\n",
       "      <th>gndr</th>\n",
       "      <th>yrbrn</th>\n",
       "      <th>happy_new</th>\n",
       "      <th>happy_codes</th>\n",
       "      <th>happy_num</th>\n",
       "    </tr>\n",
       "  </thead>\n",
       "  <tbody>\n",
       "    <tr>\n",
       "      <th>0</th>\n",
       "      <td>921018</td>\n",
       "      <td>6</td>\n",
       "      <td>9</td>\n",
       "      <td>10.0</td>\n",
       "      <td>2-3 times a month</td>\n",
       "      <td>178.0</td>\n",
       "      <td>64.0</td>\n",
       "      <td>Male</td>\n",
       "      <td>1990.0</td>\n",
       "      <td>NaN</td>\n",
       "      <td>8</td>\n",
       "      <td>9</td>\n",
       "    </tr>\n",
       "    <tr>\n",
       "      <th>1</th>\n",
       "      <td>921026</td>\n",
       "      <td>8</td>\n",
       "      <td>8</td>\n",
       "      <td>NaN</td>\n",
       "      <td>Several times a week</td>\n",
       "      <td>172.0</td>\n",
       "      <td>64.0</td>\n",
       "      <td>Female</td>\n",
       "      <td>1948.0</td>\n",
       "      <td>NaN</td>\n",
       "      <td>7</td>\n",
       "      <td>8</td>\n",
       "    </tr>\n",
       "    <tr>\n",
       "      <th>2</th>\n",
       "      <td>921034</td>\n",
       "      <td>8</td>\n",
       "      <td>8</td>\n",
       "      <td>NaN</td>\n",
       "      <td>Every day</td>\n",
       "      <td>176.0</td>\n",
       "      <td>87.0</td>\n",
       "      <td>Male</td>\n",
       "      <td>1957.0</td>\n",
       "      <td>NaN</td>\n",
       "      <td>7</td>\n",
       "      <td>8</td>\n",
       "    </tr>\n",
       "    <tr>\n",
       "      <th>3</th>\n",
       "      <td>921076</td>\n",
       "      <td>8</td>\n",
       "      <td>8</td>\n",
       "      <td>NaN</td>\n",
       "      <td>Several times a week</td>\n",
       "      <td>162.0</td>\n",
       "      <td>70.0</td>\n",
       "      <td>Female</td>\n",
       "      <td>1958.0</td>\n",
       "      <td>NaN</td>\n",
       "      <td>7</td>\n",
       "      <td>8</td>\n",
       "    </tr>\n",
       "    <tr>\n",
       "      <th>4</th>\n",
       "      <td>921084</td>\n",
       "      <td>5</td>\n",
       "      <td>8</td>\n",
       "      <td>NaN</td>\n",
       "      <td>Every day</td>\n",
       "      <td>175.0</td>\n",
       "      <td>80.0</td>\n",
       "      <td>Male</td>\n",
       "      <td>1936.0</td>\n",
       "      <td>NaN</td>\n",
       "      <td>7</td>\n",
       "      <td>8</td>\n",
       "    </tr>\n",
       "  </tbody>\n",
       "</table>\n",
       "</div>"
      ],
      "text/plain": [
       "     idno ppltrst happy  cgtsday               alcfreq  height  weight  \\\n",
       "0  921018       6     9     10.0     2-3 times a month   178.0    64.0   \n",
       "1  921026       8     8      NaN  Several times a week   172.0    64.0   \n",
       "2  921034       8     8      NaN             Every day   176.0    87.0   \n",
       "3  921076       8     8      NaN  Several times a week   162.0    70.0   \n",
       "4  921084       5     8      NaN             Every day   175.0    80.0   \n",
       "\n",
       "     gndr   yrbrn happy_new  happy_codes happy_num  \n",
       "0    Male  1990.0       NaN            8         9  \n",
       "1  Female  1948.0       NaN            7         8  \n",
       "2    Male  1957.0       NaN            7         8  \n",
       "3  Female  1958.0       NaN            7         8  \n",
       "4    Male  1936.0       NaN            7         8  "
      ]
     },
     "execution_count": 80,
     "metadata": {},
     "output_type": "execute_result"
    }
   ],
   "source": [
    "replace_map = {'happy': {'Extremely unhappy': 0, 'Extremely happy': 10}}\n",
    "replace_map2 = {'Extremely unhappy': 0, 'Extremely happy': 10}\n",
    "ess['happy_num'] = ess['happy'].replace(replace_map2)\n",
    "ess.head()"
   ]
  },
  {
   "cell_type": "code",
   "execution_count": 71,
   "metadata": {},
   "outputs": [
    {
     "ename": "TypeError",
     "evalue": "crosstab() missing 1 required positional argument: 'index'",
     "output_type": "error",
     "traceback": [
      "\u001b[0;31m---------------------------------------------------------------------------\u001b[0m",
      "\u001b[0;31mTypeError\u001b[0m                                 Traceback (most recent call last)",
      "\u001b[0;32m<ipython-input-71-dd27f8cf90b8>\u001b[0m in \u001b[0;36m<module>\u001b[0;34m\u001b[0m\n\u001b[0;32m----> 1\u001b[0;31m \u001b[0mpd\u001b[0m\u001b[0;34m.\u001b[0m\u001b[0mcrosstab\u001b[0m\u001b[0;34m(\u001b[0m\u001b[0mcolumns\u001b[0m \u001b[0;34m=\u001b[0m \u001b[0mess\u001b[0m\u001b[0;34m[\u001b[0m\u001b[0;34m'happy'\u001b[0m\u001b[0;34m]\u001b[0m\u001b[0;34m)\u001b[0m\u001b[0;34m\u001b[0m\u001b[0;34m\u001b[0m\u001b[0m\n\u001b[0m",
      "\u001b[0;31mTypeError\u001b[0m: crosstab() missing 1 required positional argument: 'index'"
     ]
    }
   ],
   "source": [
    "pd.crosstab(ess['happy'])"
   ]
  },
  {
   "cell_type": "code",
   "execution_count": 52,
   "metadata": {},
   "outputs": [
    {
     "data": {
      "text/plain": [
       "9    11\n",
       "1     5\n",
       "Name: happy_new, dtype: int64"
      ]
     },
     "execution_count": 52,
     "metadata": {},
     "output_type": "execute_result"
    }
   ],
   "source": [
    "labels = cat_df_flights['carrier'].astype('category').cat.categories.tolist()\n",
    "replace_map_comp = {'carrier' : {k: v for k,v in zip(labels,list(range(1,len(labels)+1)))}}"
   ]
  },
  {
   "cell_type": "code",
   "execution_count": null,
   "metadata": {},
   "outputs": [],
   "source": []
  },
  {
   "cell_type": "code",
   "execution_count": 39,
   "metadata": {},
   "outputs": [
    {
     "ename": "NameError",
     "evalue": "name 'df' is not defined",
     "output_type": "error",
     "traceback": [
      "\u001b[0;31m---------------------------------------------------------------------------\u001b[0m",
      "\u001b[0;31mNameError\u001b[0m                                 Traceback (most recent call last)",
      "\u001b[0;32m<ipython-input-39-2a2abb147ea8>\u001b[0m in \u001b[0;36m<module>\u001b[0;34m\u001b[0m\n\u001b[0;32m----> 1\u001b[0;31m \u001b[0mdf\u001b[0m\u001b[0;34m[\u001b[0m\u001b[0;34m'group'\u001b[0m\u001b[0;34m]\u001b[0m \u001b[0;34m=\u001b[0m \u001b[0mpd\u001b[0m\u001b[0;34m.\u001b[0m\u001b[0mcut\u001b[0m\u001b[0;34m(\u001b[0m\u001b[0mdf\u001b[0m\u001b[0;34m.\u001b[0m\u001b[0mvalue\u001b[0m\u001b[0;34m,\u001b[0m \u001b[0mrange\u001b[0m\u001b[0;34m(\u001b[0m\u001b[0;36m0\u001b[0m\u001b[0;34m,\u001b[0m \u001b[0;36m105\u001b[0m\u001b[0;34m,\u001b[0m \u001b[0;36m10\u001b[0m\u001b[0;34m)\u001b[0m\u001b[0;34m,\u001b[0m \u001b[0mright\u001b[0m\u001b[0;34m=\u001b[0m\u001b[0;32mFalse\u001b[0m\u001b[0;34m,\u001b[0m \u001b[0mlabels\u001b[0m\u001b[0;34m=\u001b[0m\u001b[0mlabels\u001b[0m\u001b[0;34m)\u001b[0m\u001b[0;34m\u001b[0m\u001b[0;34m\u001b[0m\u001b[0m\n\u001b[0m",
      "\u001b[0;31mNameError\u001b[0m: name 'df' is not defined"
     ]
    }
   ],
   "source": [
    "#omskriv til øvelse med alder\n",
    "df['group'] = pd.cut(df.value, range(0, 105, 10), right=False, labels=labels)"
   ]
  },
  {
   "cell_type": "code",
   "execution_count": null,
   "metadata": {},
   "outputs": [],
   "source": []
  }
 ],
 "metadata": {
  "kernelspec": {
   "display_name": "Python 3",
   "language": "python",
   "name": "python3"
  },
  "language_info": {
   "codemirror_mode": {
    "name": "ipython",
    "version": 3
   },
   "file_extension": ".py",
   "mimetype": "text/x-python",
   "name": "python",
   "nbconvert_exporter": "python",
   "pygments_lexer": "ipython3",
   "version": "3.7.4"
  }
 },
 "nbformat": 4,
 "nbformat_minor": 2
}
